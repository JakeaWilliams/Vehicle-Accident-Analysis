{
  "metadata": {
    "kernelspec": {
      "language": "python",
      "display_name": "Python 3",
      "name": "python3"
    },
    "language_info": {
      "pygments_lexer": "ipython3",
      "nbconvert_exporter": "python",
      "version": "3.6.4",
      "file_extension": ".py",
      "codemirror_mode": {
        "name": "ipython",
        "version": 3
      },
      "name": "python",
      "mimetype": "text/x-python"
    },
    "colab": {
      "name": "US-CAR-ACCIDENT-ANALYSIS",
      "provenance": []
    }
  },
  "nbformat_minor": 0,
  "nbformat": 4,
  "cells": [
    {
      "cell_type": "markdown",
      "source": [
        ""
      ],
      "metadata": {
        "id": "aGYAasg1RDIE"
      }
    },
    {
      "cell_type": "markdown",
      "source": [
        ""
      ],
      "metadata": {
        "id": "kGTKVi0xfz9O"
      }
    },
    {
      "cell_type": "code",
      "source": [
        "from google.colab import drive\n",
        "\n",
        "drive.mount('/content/gdrive')\n"
      ],
      "metadata": {
        "colab": {
          "base_uri": "https://localhost:8080/"
        },
        "id": "bdMCxflmREHX",
        "outputId": "bc0dc1a7-f58e-4166-d499-6bb3ccf52a97"
      },
      "execution_count": 1,
      "outputs": [
        {
          "output_type": "stream",
          "name": "stdout",
          "text": [
            "Drive already mounted at /content/gdrive; to attempt to forcibly remount, call drive.mount(\"/content/gdrive\", force_remount=True).\n"
          ]
        }
      ]
    },
    {
      "cell_type": "code",
      "source": [
        "%cd /content/gdrive/MyDrive/data\n",
        "list_files = []"
      ],
      "metadata": {
        "colab": {
          "base_uri": "https://localhost:8080/"
        },
        "id": "zOepOjmNhM_q",
        "outputId": "f87580ba-7f21-464a-f30a-9ada2c5e95bd"
      },
      "execution_count": 2,
      "outputs": [
        {
          "output_type": "stream",
          "name": "stdout",
          "text": [
            "/content/gdrive/MyDrive/data\n"
          ]
        }
      ]
    },
    {
      "cell_type": "code",
      "source": [
        "import warnings\n",
        "warnings.filterwarnings('ignore')\n",
        "warnings.simplefilter('ignore')"
      ],
      "metadata": {
        "id": "cPJRpM-XjOG7"
      },
      "execution_count": 3,
      "outputs": []
    },
    {
      "cell_type": "code",
      "source": [
        "! mkdir ~/.kaggle"
      ],
      "metadata": {
        "colab": {
          "base_uri": "https://localhost:8080/"
        },
        "id": "X3ussiPwh2D6",
        "outputId": "ef50624c-7981-40a0-bf7a-c9570292cfa7"
      },
      "execution_count": 4,
      "outputs": [
        {
          "output_type": "stream",
          "name": "stdout",
          "text": [
            "mkdir: cannot create directory ‘/root/.kaggle’: File exists\n"
          ]
        }
      ]
    },
    {
      "cell_type": "code",
      "source": [
        "! cp kaggle.json ~/.kaggle/"
      ],
      "metadata": {
        "id": "qNEIoaI-h36L"
      },
      "execution_count": 5,
      "outputs": []
    },
    {
      "cell_type": "code",
      "source": [
        "! chmod 600 ~/.kaggle/kaggle.json"
      ],
      "metadata": {
        "id": "g1Exv8Rvh7Ji"
      },
      "execution_count": 6,
      "outputs": []
    },
    {
      "cell_type": "code",
      "source": [
        "!pip install -q kaggle"
      ],
      "metadata": {
        "id": "Z3p92ud8iDIk"
      },
      "execution_count": 7,
      "outputs": []
    },
    {
      "cell_type": "code",
      "source": [
        "!pip install geopandas"
      ],
      "metadata": {
        "colab": {
          "base_uri": "https://localhost:8080/"
        },
        "id": "SF0naScUiNI9",
        "outputId": "74f30eb8-aeb7-4332-8633-63aea99b75c6"
      },
      "execution_count": 8,
      "outputs": [
        {
          "output_type": "stream",
          "name": "stdout",
          "text": [
            "Looking in indexes: https://pypi.org/simple, https://us-python.pkg.dev/colab-wheels/public/simple/\n",
            "Requirement already satisfied: geopandas in /usr/local/lib/python3.7/dist-packages (0.10.2)\n",
            "Requirement already satisfied: pandas>=0.25.0 in /usr/local/lib/python3.7/dist-packages (from geopandas) (1.3.5)\n",
            "Requirement already satisfied: pyproj>=2.2.0 in /usr/local/lib/python3.7/dist-packages (from geopandas) (3.2.1)\n",
            "Requirement already satisfied: fiona>=1.8 in /usr/local/lib/python3.7/dist-packages (from geopandas) (1.8.21)\n",
            "Requirement already satisfied: shapely>=1.6 in /usr/local/lib/python3.7/dist-packages (from geopandas) (1.8.2)\n",
            "Requirement already satisfied: click>=4.0 in /usr/local/lib/python3.7/dist-packages (from fiona>=1.8->geopandas) (7.1.2)\n",
            "Requirement already satisfied: cligj>=0.5 in /usr/local/lib/python3.7/dist-packages (from fiona>=1.8->geopandas) (0.7.2)\n",
            "Requirement already satisfied: attrs>=17 in /usr/local/lib/python3.7/dist-packages (from fiona>=1.8->geopandas) (21.4.0)\n",
            "Requirement already satisfied: click-plugins>=1.0 in /usr/local/lib/python3.7/dist-packages (from fiona>=1.8->geopandas) (1.1.1)\n",
            "Requirement already satisfied: six>=1.7 in /usr/local/lib/python3.7/dist-packages (from fiona>=1.8->geopandas) (1.15.0)\n",
            "Requirement already satisfied: setuptools in /usr/local/lib/python3.7/dist-packages (from fiona>=1.8->geopandas) (57.4.0)\n",
            "Requirement already satisfied: certifi in /usr/local/lib/python3.7/dist-packages (from fiona>=1.8->geopandas) (2022.6.15)\n",
            "Requirement already satisfied: munch in /usr/local/lib/python3.7/dist-packages (from fiona>=1.8->geopandas) (2.5.0)\n",
            "Requirement already satisfied: python-dateutil>=2.7.3 in /usr/local/lib/python3.7/dist-packages (from pandas>=0.25.0->geopandas) (2.8.2)\n",
            "Requirement already satisfied: pytz>=2017.3 in /usr/local/lib/python3.7/dist-packages (from pandas>=0.25.0->geopandas) (2022.1)\n",
            "Requirement already satisfied: numpy>=1.17.3 in /usr/local/lib/python3.7/dist-packages (from pandas>=0.25.0->geopandas) (1.21.6)\n"
          ]
        }
      ]
    },
    {
      "cell_type": "code",
      "source": [
        "!pip install Levenshtein"
      ],
      "metadata": {
        "colab": {
          "base_uri": "https://localhost:8080/"
        },
        "id": "2FMqTZsuidqM",
        "outputId": "a511e56f-109a-4e65-a376-268ecee70047"
      },
      "execution_count": 9,
      "outputs": [
        {
          "output_type": "stream",
          "name": "stdout",
          "text": [
            "Looking in indexes: https://pypi.org/simple, https://us-python.pkg.dev/colab-wheels/public/simple/\n",
            "Requirement already satisfied: Levenshtein in /usr/local/lib/python3.7/dist-packages (0.19.0)\n",
            "Requirement already satisfied: rapidfuzz<3.0.0,>=2.0.1 in /usr/local/lib/python3.7/dist-packages (from Levenshtein) (2.1.3)\n",
            "Requirement already satisfied: jarowinkler<2.0.0,>=1.1.0 in /usr/local/lib/python3.7/dist-packages (from rapidfuzz<3.0.0,>=2.0.1->Levenshtein) (1.1.1)\n"
          ]
        }
      ]
    },
    {
      "cell_type": "code",
      "source": [
        "!pip install fuzzywuzzy"
      ],
      "metadata": {
        "colab": {
          "base_uri": "https://localhost:8080/"
        },
        "id": "kt2vNg7uillQ",
        "outputId": "483fb7b8-bc36-443b-edcf-bdde16d865c0"
      },
      "execution_count": 10,
      "outputs": [
        {
          "output_type": "stream",
          "name": "stdout",
          "text": [
            "Looking in indexes: https://pypi.org/simple, https://us-python.pkg.dev/colab-wheels/public/simple/\n",
            "Requirement already satisfied: fuzzywuzzy in /usr/local/lib/python3.7/dist-packages (0.18.0)\n"
          ]
        }
      ]
    },
    {
      "cell_type": "code",
      "source": [
        "!pip install geoplot"
      ],
      "metadata": {
        "colab": {
          "base_uri": "https://localhost:8080/"
        },
        "id": "bOjsHLVIi0U6",
        "outputId": "94509c0f-83aa-46fe-958c-a61ec3ae77cd"
      },
      "execution_count": 11,
      "outputs": [
        {
          "output_type": "stream",
          "name": "stdout",
          "text": [
            "Looking in indexes: https://pypi.org/simple, https://us-python.pkg.dev/colab-wheels/public/simple/\n",
            "Requirement already satisfied: geoplot in /usr/local/lib/python3.7/dist-packages (0.5.1)\n",
            "Requirement already satisfied: matplotlib>=3.1.2 in /usr/local/lib/python3.7/dist-packages (from geoplot) (3.2.2)\n",
            "Requirement already satisfied: contextily>=1.0.0 in /usr/local/lib/python3.7/dist-packages (from geoplot) (1.2.0)\n",
            "Requirement already satisfied: cartopy in /usr/local/lib/python3.7/dist-packages (from geoplot) (0.19.0.post1)\n",
            "Requirement already satisfied: seaborn in /usr/local/lib/python3.7/dist-packages (from geoplot) (0.11.2)\n",
            "Requirement already satisfied: pandas in /usr/local/lib/python3.7/dist-packages (from geoplot) (1.3.5)\n",
            "Requirement already satisfied: mapclassify>=2.1 in /usr/local/lib/python3.7/dist-packages (from geoplot) (2.4.3)\n",
            "Requirement already satisfied: geopandas>=0.9.0 in /usr/local/lib/python3.7/dist-packages (from geoplot) (0.10.2)\n",
            "Requirement already satisfied: mercantile in /usr/local/lib/python3.7/dist-packages (from contextily>=1.0.0->geoplot) (1.2.1)\n",
            "Requirement already satisfied: geopy in /usr/local/lib/python3.7/dist-packages (from contextily>=1.0.0->geoplot) (1.17.0)\n",
            "Requirement already satisfied: requests in /usr/local/lib/python3.7/dist-packages (from contextily>=1.0.0->geoplot) (2.23.0)\n",
            "Requirement already satisfied: joblib in /usr/local/lib/python3.7/dist-packages (from contextily>=1.0.0->geoplot) (1.1.0)\n",
            "Requirement already satisfied: rasterio in /usr/local/lib/python3.7/dist-packages (from contextily>=1.0.0->geoplot) (1.2.10)\n",
            "Requirement already satisfied: xyzservices in /usr/local/lib/python3.7/dist-packages (from contextily>=1.0.0->geoplot) (2022.6.0)\n",
            "Requirement already satisfied: pillow in /usr/local/lib/python3.7/dist-packages (from contextily>=1.0.0->geoplot) (7.1.2)\n",
            "Requirement already satisfied: shapely>=1.6 in /usr/local/lib/python3.7/dist-packages (from geopandas>=0.9.0->geoplot) (1.8.2)\n",
            "Requirement already satisfied: pyproj>=2.2.0 in /usr/local/lib/python3.7/dist-packages (from geopandas>=0.9.0->geoplot) (3.2.1)\n",
            "Requirement already satisfied: fiona>=1.8 in /usr/local/lib/python3.7/dist-packages (from geopandas>=0.9.0->geoplot) (1.8.21)\n",
            "Requirement already satisfied: certifi in /usr/local/lib/python3.7/dist-packages (from fiona>=1.8->geopandas>=0.9.0->geoplot) (2022.6.15)\n",
            "Requirement already satisfied: munch in /usr/local/lib/python3.7/dist-packages (from fiona>=1.8->geopandas>=0.9.0->geoplot) (2.5.0)\n",
            "Requirement already satisfied: click>=4.0 in /usr/local/lib/python3.7/dist-packages (from fiona>=1.8->geopandas>=0.9.0->geoplot) (7.1.2)\n",
            "Requirement already satisfied: attrs>=17 in /usr/local/lib/python3.7/dist-packages (from fiona>=1.8->geopandas>=0.9.0->geoplot) (21.4.0)\n",
            "Requirement already satisfied: six>=1.7 in /usr/local/lib/python3.7/dist-packages (from fiona>=1.8->geopandas>=0.9.0->geoplot) (1.15.0)\n",
            "Requirement already satisfied: click-plugins>=1.0 in /usr/local/lib/python3.7/dist-packages (from fiona>=1.8->geopandas>=0.9.0->geoplot) (1.1.1)\n",
            "Requirement already satisfied: setuptools in /usr/local/lib/python3.7/dist-packages (from fiona>=1.8->geopandas>=0.9.0->geoplot) (57.4.0)\n",
            "Requirement already satisfied: cligj>=0.5 in /usr/local/lib/python3.7/dist-packages (from fiona>=1.8->geopandas>=0.9.0->geoplot) (0.7.2)\n",
            "Requirement already satisfied: numpy>=1.3 in /usr/local/lib/python3.7/dist-packages (from mapclassify>=2.1->geoplot) (1.21.6)\n",
            "Requirement already satisfied: scikit-learn in /usr/local/lib/python3.7/dist-packages (from mapclassify>=2.1->geoplot) (1.0.2)\n",
            "Requirement already satisfied: scipy>=1.0 in /usr/local/lib/python3.7/dist-packages (from mapclassify>=2.1->geoplot) (1.4.1)\n",
            "Requirement already satisfied: networkx in /usr/local/lib/python3.7/dist-packages (from mapclassify>=2.1->geoplot) (2.6.3)\n",
            "Requirement already satisfied: pyparsing!=2.0.4,!=2.1.2,!=2.1.6,>=2.0.1 in /usr/local/lib/python3.7/dist-packages (from matplotlib>=3.1.2->geoplot) (3.0.9)\n",
            "Requirement already satisfied: kiwisolver>=1.0.1 in /usr/local/lib/python3.7/dist-packages (from matplotlib>=3.1.2->geoplot) (1.4.3)\n",
            "Requirement already satisfied: cycler>=0.10 in /usr/local/lib/python3.7/dist-packages (from matplotlib>=3.1.2->geoplot) (0.11.0)\n",
            "Requirement already satisfied: python-dateutil>=2.1 in /usr/local/lib/python3.7/dist-packages (from matplotlib>=3.1.2->geoplot) (2.8.2)\n",
            "Requirement already satisfied: typing-extensions in /usr/local/lib/python3.7/dist-packages (from kiwisolver>=1.0.1->matplotlib>=3.1.2->geoplot) (4.1.1)\n",
            "Requirement already satisfied: pytz>=2017.3 in /usr/local/lib/python3.7/dist-packages (from pandas->geoplot) (2022.1)\n",
            "Requirement already satisfied: pyshp>=2 in /usr/local/lib/python3.7/dist-packages (from cartopy->geoplot) (2.3.0)\n",
            "Requirement already satisfied: geographiclib<2,>=1.49 in /usr/local/lib/python3.7/dist-packages (from geopy->contextily>=1.0.0->geoplot) (1.52)\n",
            "Requirement already satisfied: affine in /usr/local/lib/python3.7/dist-packages (from rasterio->contextily>=1.0.0->geoplot) (2.3.1)\n",
            "Requirement already satisfied: snuggs>=1.4.1 in /usr/local/lib/python3.7/dist-packages (from rasterio->contextily>=1.0.0->geoplot) (1.4.7)\n",
            "Requirement already satisfied: chardet<4,>=3.0.2 in /usr/local/lib/python3.7/dist-packages (from requests->contextily>=1.0.0->geoplot) (3.0.4)\n",
            "Requirement already satisfied: urllib3!=1.25.0,!=1.25.1,<1.26,>=1.21.1 in /usr/local/lib/python3.7/dist-packages (from requests->contextily>=1.0.0->geoplot) (1.24.3)\n",
            "Requirement already satisfied: idna<3,>=2.5 in /usr/local/lib/python3.7/dist-packages (from requests->contextily>=1.0.0->geoplot) (2.10)\n",
            "Requirement already satisfied: threadpoolctl>=2.0.0 in /usr/local/lib/python3.7/dist-packages (from scikit-learn->mapclassify>=2.1->geoplot) (3.1.0)\n"
          ]
        }
      ]
    },
    {
      "cell_type": "markdown",
      "source": [
        "<p><img alt=\"Insight logo\" src=\"https://drive.google.com/uc?export=view&id=1q12QkUJV93coNY1p2iQV15UHxfkH4na0\" align=\"left\" hspace=\"25px\" vspace=\"20px\" width=\"40\" height=\"50\" ></p>\n",
        "\n",
        "<ul style=\"list-style-type:none;\">\n",
        "  <li style=\"font-weight: bold;font-family:Yu Mincho Demibold;font-size:35px;font-style: italic;color:  #6468e8\">Basic Questions</li>\n",
        "</ul>\n",
        "\n",
        "<ul style=\"list-style-type:circle;font-family:Yu Mincho Demibold;font-size:20px;color:black\">\n",
        "    <li>Which <span style=\"color:#122ecc;\">City</span> in US has reported most no. of Accident Cases in last 5 years (2016-2020) ?</li>\n",
        "    <li>Which are the <span style=\"color:#122ecc;\">top 10 accident prone streets</span> in US ?</li>\n",
        "    <li>Per Day <span style=\"color:#122ecc;\">averagely how many road accidents</span> took placed in US ?</li>\n",
        "    <li>In which <span style=\"color:#122ecc;\">hours</span> of the <span style=\"color:#122ecc;\">day most accidents</span> happened in US ?</li>\n",
        "    <li>How are the basic <span style=\"color:#122ecc;\">weather conditions</span> in <span style=\"color:#122ecc;\">most</span> of the <span style=\"color:#122ecc;\">accident cases</span> in US ?</li>  \n",
        "    <li>Which are the <span style=\"color:#122ecc;\">top 10 States</span> with <span style=\"color:#122ecc;\">most no. of road accident cases</span> in US ?</li> \n",
        "\n",
        "</ul>\n",
        "\n",
        "<ul style=\"list-style-type:none; text-align: center;\">\n",
        "    <li style=\"font-family:Microsoft JhengHei UI Light;font-size:20px;color: #6468e8\">...and More</li>\n",
        "</ul>"
      ],
      "metadata": {
        "id": "haMUWQ3yQe3v"
      }
    },
    {
      "cell_type": "markdown",
      "source": [
        "<ul style=\"list-style-type:none; text-align: center;\">\n",
        "    <li style=\"font-family:Microsoft JhengHei UI Light;font-size:20px;color: #6468e8\">To See all the <b>imported libraries</b>, Click On Show <b>hidden code</b></li>\n",
        "</ul>"
      ],
      "metadata": {
        "id": "NaCJfJ7OQe3w"
      }
    },
    {
      "cell_type": "code",
      "source": [
        "# import all necesary libraries\n",
        "import numpy as np\n",
        "import pandas as pd\n",
        "import matplotlib.pyplot as plt\n",
        "import matplotlib.ticker as ticker\n",
        "import matplotlib.patches as mpatches\n",
        "import seaborn as sns\n",
        "import calendar\n",
        "import plotly as pt\n",
        "from plotly import graph_objs as go\n",
        "import plotly.express as px\n",
        "import plotly.figure_factory as ff\n",
        "from pylab import *\n",
        "import matplotlib.patheffects as PathEffects\n",
        "import os\n",
        "import descartes\n",
        "import geopandas\n",
        "from Levenshtein import distance\n",
        "from itertools import product\n",
        "from fuzzywuzzy import fuzz\n",
        "from fuzzywuzzy import process\n",
        "from scipy.spatial.distance import pdist, squareform\n",
        "from shapely.geometry import Point, Polygon\n",
        "\n",
        "import geoplot\n",
        "from geopy.geocoders import Nominatim\n",
        "\n",
        "import warnings\n",
        "warnings.filterwarnings('ignore')\n",
        "\n",
        "\n",
        "plt.rcParams['font.family'] = \"Microsoft JhengHei UI Light\"\n",
        "plt.rcParams['font.serif'] = [\"Microsoft JhengHei UI Light\"]"
      ],
      "metadata": {
        "_kg_hide-input": true,
        "execution": {
          "iopub.status.busy": "2021-11-11T16:00:25.904475Z",
          "iopub.execute_input": "2021-11-11T16:00:25.90499Z",
          "iopub.status.idle": "2021-11-11T16:00:31.180075Z",
          "shell.execute_reply.started": "2021-11-11T16:00:25.904898Z",
          "shell.execute_reply": "2021-11-11T16:00:31.179024Z"
        },
        "jupyter": {
          "source_hidden": true
        },
        "trusted": true,
        "id": "skq6mPPyQe3x"
      },
      "execution_count": 12,
      "outputs": []
    },
    {
      "cell_type": "code",
      "source": [
        "%cd /content/gdrive/MyDrive/data\n",
        "list_files = []\n",
        "for file in os.listdir():\n",
        "  if file.endswith('.csv'): \n",
        "    df = pd.read_csv(file) \n",
        "# read & load the dataset into pandas dataframe\n"
      ],
      "metadata": {
        "execution": {
          "iopub.status.busy": "2021-11-11T16:00:31.181648Z",
          "iopub.execute_input": "2021-11-11T16:00:31.181956Z",
          "iopub.status.idle": "2021-11-11T16:00:52.211326Z",
          "shell.execute_reply.started": "2021-11-11T16:00:31.181924Z",
          "shell.execute_reply": "2021-11-11T16:00:52.210427Z"
        },
        "trusted": true,
        "colab": {
          "base_uri": "https://localhost:8080/"
        },
        "id": "_2Tf48pRQe3z",
        "outputId": "9d1de91f-88ea-4857-85f9-23b9c5a7f220"
      },
      "execution_count": null,
      "outputs": [
        {
          "output_type": "stream",
          "name": "stdout",
          "text": [
            "/content/gdrive/MyDrive/data\n"
          ]
        }
      ]
    },
    {
      "cell_type": "code",
      "source": [
        "# check the no. of columns & rows\n",
        "print('The Dataset Contains, Rows: {:,d} & Columns: {}'.format(df.shape[0], df.shape[1]))"
      ],
      "metadata": {
        "execution": {
          "iopub.status.busy": "2021-11-11T16:00:52.21281Z",
          "iopub.execute_input": "2021-11-11T16:00:52.21333Z",
          "iopub.status.idle": "2021-11-11T16:00:52.219673Z",
          "shell.execute_reply.started": "2021-11-11T16:00:52.213255Z",
          "shell.execute_reply": "2021-11-11T16:00:52.218761Z"
        },
        "trusted": true,
        "id": "nWHHcqItQe3z"
      },
      "execution_count": null,
      "outputs": []
    },
    {
      "cell_type": "code",
      "source": [
        "# convert the Start_Time & End_Time Variable into Datetime Feature\n",
        "df.Start_Time = pd.to_datetime(df.Start_Time)\n",
        "df.End_Time = pd.to_datetime(df.End_Time)"
      ],
      "metadata": {
        "execution": {
          "iopub.status.busy": "2021-11-11T16:00:52.222237Z",
          "iopub.execute_input": "2021-11-11T16:00:52.222792Z",
          "iopub.status.idle": "2021-11-11T16:00:54.264585Z",
          "shell.execute_reply.started": "2021-11-11T16:00:52.222744Z",
          "shell.execute_reply": "2021-11-11T16:00:54.26351Z"
        },
        "trusted": true,
        "id": "kweCMLn0Qe30"
      },
      "execution_count": null,
      "outputs": []
    },
    {
      "cell_type": "code",
      "source": [
        "# create a dataframe of city and their corresponding accident cases\n",
        "city_df = pd.DataFrame(df['City'].value_counts()).reset_index().rename(columns={'index':'City', 'City':'Cases'})"
      ],
      "metadata": {
        "execution": {
          "iopub.status.busy": "2021-11-11T16:00:54.266216Z",
          "iopub.execute_input": "2021-11-11T16:00:54.26671Z",
          "iopub.status.idle": "2021-11-11T16:00:54.551617Z",
          "shell.execute_reply.started": "2021-11-11T16:00:54.266666Z",
          "shell.execute_reply": "2021-11-11T16:00:54.550486Z"
        },
        "trusted": true,
        "id": "vRJpKOFNQe31"
      },
      "execution_count": null,
      "outputs": []
    },
    {
      "cell_type": "code",
      "source": [
        "top_10_cities = pd.DataFrame(city_df.head(10))"
      ],
      "metadata": {
        "execution": {
          "iopub.status.busy": "2021-11-11T16:00:54.553231Z",
          "iopub.execute_input": "2021-11-11T16:00:54.553742Z",
          "iopub.status.idle": "2021-11-11T16:00:54.558657Z",
          "shell.execute_reply.started": "2021-11-11T16:00:54.553683Z",
          "shell.execute_reply": "2021-11-11T16:00:54.55784Z"
        },
        "trusted": true,
        "id": "6I7MWcjmQe32"
      },
      "execution_count": null,
      "outputs": []
    },
    {
      "cell_type": "code",
      "source": [
        "fig, ax = plt.subplots(figsize = (12,7), dpi = 80)\n",
        "\n",
        "cmap = cm.get_cmap('rainbow', 10)   \n",
        "clrs = [matplotlib.colors.rgb2hex(cmap(i)) for i in range(cmap.N)]\n",
        "\n",
        "ax=sns.barplot(y=top_10_cities['Cases'], x=top_10_cities['City'], palette='rainbow')\n",
        "\n",
        "total = sum(city_df['Cases'])\n",
        "for i in ax.patches:\n",
        "    ax.text(i.get_x()+.03, i.get_height()-2500, \\\n",
        "            str(round((i.get_height()/total)*100, 2))+'%', fontsize=15, weight='bold',\n",
        "                color='white')\n",
        "\n",
        "plt.title('\\nTop 10 Cities in US with most no. of \\nRoad Accident Cases (2016-2020)\\n', size=20, color='grey')\n",
        "\n",
        "plt.rcParams['font.family'] = \"DejaVu Sans\"\n",
        "plt.rcParams['font.serif'] = [\"DejaVu Sans\"]\n",
        "\n",
        "plt.ylim(1000, 50000)\n",
        "plt.xticks(rotation=10, fontsize=12)\n",
        "plt.yticks(fontsize=12)\n",
        "\n",
        "ax.set_xlabel('\\nCities\\n', fontsize=15, color='grey')\n",
        "ax.set_ylabel('\\nAccident Cases\\n', fontsize=15, color='grey')\n",
        "\n",
        "for i in ['bottom', 'left']:\n",
        "    ax.spines[i].set_color('white')\n",
        "    ax.spines[i].set_linewidth(1.5)\n",
        "    \n",
        "right_side = ax.spines[\"right\"]\n",
        "right_side.set_visible(False)\n",
        "top_side = ax.spines[\"top\"]\n",
        "top_side.set_visible(False)\n",
        "\n",
        "ax.set_axisbelow(True)\n",
        "ax.grid(color='#b2d6c7', linewidth=1, axis='y', alpha=.3)\n",
        "MA = mpatches.Patch(color=clrs[0], label='City with Maximum\\n no. of Road Accidents')\n",
        "ax.legend(handles=[MA], prop={'size': 10.5}, loc='best', borderpad=1, \n",
        "          labelcolor=clrs[0], edgecolor='white');\n",
        "plt.show()"
      ],
      "metadata": {
        "_kg_hide-input": true,
        "execution": {
          "iopub.status.busy": "2021-11-11T16:00:54.560212Z",
          "iopub.execute_input": "2021-11-11T16:00:54.560553Z",
          "iopub.status.idle": "2021-11-11T16:00:54.985354Z",
          "shell.execute_reply.started": "2021-11-11T16:00:54.560508Z",
          "shell.execute_reply": "2021-11-11T16:00:54.984471Z"
        },
        "jupyter": {
          "source_hidden": true
        },
        "trusted": true,
        "id": "kCEdENaJQe32"
      },
      "execution_count": null,
      "outputs": []
    },
    {
      "cell_type": "markdown",
      "source": [
        "<p><img alt=\"Insight logo\" src=\"https://drive.google.com/uc?export=view&id=15uX4fnuDMuki2xAnjK8wv-ifJhAkBtJ2\" align=\"left\" hspace=\"10px\" vspace=\"0px\"></p>\n",
        "\n",
        "<ul style=\"list-style-type:none;\">\n",
        "  <li style=\"font-weight: bold;font-family:'Times New Roman';font-size:30px;font-style: italic;color:  #6468e8\">Insights:</li>\n",
        "</ul>\n",
        "\n",
        "<div class=\"alert alert-info\" role=\"alert\">\n",
        "<ul style=\"list-style-type:none;font-family:Yu Mincho Demibold;font-size:20px;color:black\">\n",
        "    <li>1. <span style=\"font-weight: bold; color:#122ecc;\">Los Angeles</span> is the city with <span style=\"font-weight: bold; color:#122ecc;\">highest (2.64%)</span> no. of road accidents in US (2016-2020).</li>\n",
        "    <br>\n",
        "    <li>2. <span style=\"font-weight: bold; color:#122ecc;\">Miami</span> is the city with <span style=\"font-weight: bold; color:#122ecc;\">2nd highest (2.39%)</span> no. of road accidents in US (2016-2020).</li>\n",
        "    <br>\n",
        "    <li>3. Around <span style=\"font-weight: bold; color:#122ecc;\">14%</span> accident records of past 5 years are only from these <span style=\"font-weight: bold; color:#122ecc;\">10 cities</span> out of 10,657 cities in US (as per the dataset).</li>\n",
        "\n",
        "</ul>\n",
        "</div>"
      ],
      "metadata": {
        "id": "IXjQR1DzQe32"
      }
    },
    {
      "cell_type": "code",
      "source": [
        "hightest_cases = city_df.Cases[0]\n",
        "print(round(hightest_cases/5))\n",
        "print(round(hightest_cases/(5*365)))"
      ],
      "metadata": {
        "execution": {
          "iopub.status.busy": "2021-11-11T16:00:54.986406Z",
          "iopub.execute_input": "2021-11-11T16:00:54.987181Z",
          "iopub.status.idle": "2021-11-11T16:00:54.993253Z",
          "shell.execute_reply.started": "2021-11-11T16:00:54.987142Z",
          "shell.execute_reply": "2021-11-11T16:00:54.992359Z"
        },
        "trusted": true,
        "id": "ljv3NavOQe33"
      },
      "execution_count": null,
      "outputs": []
    },
    {
      "cell_type": "markdown",
      "source": [
        "<p><img alt=\"Insight logo\" src=\"https://drive.google.com/uc?export=view&id=15uX4fnuDMuki2xAnjK8wv-ifJhAkBtJ2\" align=\"left\" hspace=\"10px\" vspace=\"0px\"></p>\n",
        "\n",
        "<ul style=\"list-style-type:none;\">\n",
        "  <li style=\"font-weight: bold;font-family:'Times New Roman';font-size:30px;font-style: italic;color:  #6468e8\">Insights:</li>\n",
        "</ul>\n",
        "\n",
        "<div class=\"alert alert-info\" role=\"alert\">\n",
        "<ul style=\"list-style-type:none;font-family:Yu Mincho Demibold;font-size:20px;color:  black\">\n",
        "<li>4. In past 5 years (2016-2020) <span style=\"font-weight: bold; color:#122ecc;\">yearly 7,997 road accidents</span> (average) happened in <span style=\"font-weight: bold; color:#122ecc;\">Los Angeles</span>.</li>\n",
        "<br>\n",
        "<li>5. In <span style=\"font-weight: bold; color:#122ecc;\">Los Angeles</span> averagely in <span style=\"font-weight: bold; color:#122ecc;\">every 12 hours 11 accidents</span> occurred.</li>\n",
        "</ul>\n",
        "</div>"
      ],
      "metadata": {
        "id": "7S4FZJv-Qe33"
      }
    },
    {
      "cell_type": "code",
      "source": [
        "states = geopandas.read_file('us-states-map.zip')\n",
        "\n",
        "def lat(city):\n",
        "    address=city\n",
        "    geolocator = Nominatim(user_agent=\"Your_Name\")\n",
        "    location = geolocator.geocode(address)\n",
        "    return (location.latitude)\n",
        "\n",
        "def lng(city):\n",
        "    address=city\n",
        "    geolocator = Nominatim(user_agent=\"Your_Name\")\n",
        "    location = geolocator.geocode(address)\n",
        "    return (location.longitude)\n",
        "\n",
        "# list of top 10 cities\n",
        "top_ten_city_list = list(city_df.City.head(10))\n",
        "\n",
        "top_ten_city_lat_dict = {}\n",
        "top_ten_city_lng_dict = {}\n",
        "for i in top_ten_city_list:\n",
        "    top_ten_city_lat_dict[i] = lat(i)\n",
        "    top_ten_city_lng_dict[i] = lng(i)\n",
        "    \n",
        "top_10_cities_df = df[df['City'].isin(list(top_10_cities.City))]\n",
        "\n",
        "top_10_cities_df['New_Start_Lat'] = top_10_cities_df['City'].map(top_ten_city_lat_dict)\n",
        "top_10_cities_df['New_Start_Lng'] = top_10_cities_df['City'].map(top_ten_city_lng_dict)"
      ],
      "metadata": {
        "execution": {
          "iopub.status.busy": "2021-11-11T16:00:54.994784Z",
          "iopub.execute_input": "2021-11-11T16:00:54.995341Z",
          "iopub.status.idle": "2021-11-11T16:01:05.669906Z",
          "shell.execute_reply.started": "2021-11-11T16:00:54.995298Z",
          "shell.execute_reply": "2021-11-11T16:01:05.668871Z"
        },
        "trusted": true,
        "id": "mOfmQj-SQe33"
      },
      "execution_count": null,
      "outputs": []
    },
    {
      "cell_type": "code",
      "source": [
        "geometry_cities = [Point(xy) for xy in zip(top_10_cities_df['New_Start_Lng'], top_10_cities_df['New_Start_Lat'])]\n",
        "geo_df_cities = geopandas.GeoDataFrame(top_10_cities_df, geometry=geometry_cities)"
      ],
      "metadata": {
        "execution": {
          "iopub.status.busy": "2021-11-11T16:01:05.672648Z",
          "iopub.execute_input": "2021-11-11T16:01:05.672876Z",
          "iopub.status.idle": "2021-11-11T16:01:09.198698Z",
          "shell.execute_reply.started": "2021-11-11T16:01:05.672847Z",
          "shell.execute_reply": "2021-11-11T16:01:09.197802Z"
        },
        "trusted": true,
        "id": "1ke5ofxIQe34"
      },
      "execution_count": null,
      "outputs": []
    },
    {
      "cell_type": "code",
      "source": [
        "fig, ax = plt.subplots(figsize=(15,15))\n",
        "ax.set_xlim([-125,-65])\n",
        "ax.set_ylim([22,55])\n",
        "states.boundary.plot(ax=ax, color='grey');\n",
        "\n",
        "colors = ['#e6194B','#f58231','#ffe119','#bfef45','#3cb44b', '#aaffc3','#42d4f4','#4363d8','#911eb4','#f032e6']\n",
        "markersizes = [50+(i*20) for i in range(10)][::-1]\n",
        "for i in range(10):\n",
        "    geo_df_cities[geo_df_cities['City'] == top_ten_city_list[i]].plot(ax=ax, markersize=markersizes[i], \n",
        "                                                                      color=colors[i], marker='o', \n",
        "                                                                      label=top_ten_city_list[i], alpha=0.7);\n",
        "    \n",
        "plt.legend(prop={'size': 13}, loc='best', bbox_to_anchor=(0.5, 0., 0.5, 0.5), edgecolor='white', title=\"Cities\", title_fontsize=15);\n",
        "\n",
        "for i in ['bottom', 'top', 'left', 'right']:\n",
        "    side = ax.spines[i]\n",
        "    side.set_visible(False)\n",
        "    \n",
        "plt.tick_params(top=False, bottom=False, left=False, right=False,\n",
        "                labelleft=False, labelbottom=False)\n",
        "\n",
        "plt.title('\\nVisualization of Top 10 Accident Prone Cities in US (2016-2020)', size=20, color='grey');"
      ],
      "metadata": {
        "_kg_hide-input": true,
        "execution": {
          "iopub.status.busy": "2021-11-11T16:01:09.200161Z",
          "iopub.execute_input": "2021-11-11T16:01:09.201069Z",
          "iopub.status.idle": "2021-11-11T16:01:45.294713Z",
          "shell.execute_reply.started": "2021-11-11T16:01:09.201029Z",
          "shell.execute_reply": "2021-11-11T16:01:45.293793Z"
        },
        "jupyter": {
          "source_hidden": true
        },
        "trusted": true,
        "id": "H7NfnIUwQe34"
      },
      "execution_count": null,
      "outputs": []
    },
    {
      "cell_type": "markdown",
      "source": [
        "<p><img alt=\"Insight logo\" src=\"https://drive.google.com/uc?export=view&id=15uX4fnuDMuki2xAnjK8wv-ifJhAkBtJ2\" align=\"left\" hspace=\"10px\" vspace=\"0px\"></p>\n",
        "\n",
        "<ul style=\"list-style-type:none;\">\n",
        "  <li style=\"font-weight: bold;font-family:'Times New Roman';font-size:30px;font-style: italic;color:  #6468e8\">Insight:</li>\n",
        "</ul>\n",
        "\n",
        "<div class=\"alert alert-info\" role=\"alert\">\n",
        "<ul style=\"list-style-type:none;font-family:Yu Mincho Demibold;font-size:20px;color:  black\">\n",
        "<li>6. <span style=\"font-weight: bold; color:#122ecc;\">3 out of top 10 cities</span> with most no. of accident cases is from the state, <span style=\"font-weight: bold; color:#122ecc;\">California</span>.</li>\n",
        "    \n",
        "</ul>\n",
        "</div>"
      ],
      "metadata": {
        "id": "XCTP9clLQe34"
      }
    },
    {
      "cell_type": "code",
      "source": [
        "def city_cases_percentage(val, operator):\n",
        "    if operator == '<':\n",
        "        res = city_df[city_df['Cases']<val].shape[0]\n",
        "    elif operator == '>':\n",
        "        res = city_df[city_df['Cases']>val].shape[0]\n",
        "    elif operator == '=':\n",
        "        res = city_df[city_df['Cases']==val].shape[0]\n",
        "    print(f'{res} Cities, {round(res*100/city_df.shape[0], 2)}%')\n",
        "    \n",
        "    \n",
        "city_cases_percentage(1, '=')\n",
        "city_cases_percentage(100, '<')\n",
        "city_cases_percentage(1000, '<')\n",
        "city_cases_percentage(1000, '>')\n",
        "city_cases_percentage(5000, '>')\n",
        "city_cases_percentage(10000, '>')"
      ],
      "metadata": {
        "execution": {
          "iopub.status.busy": "2021-11-11T16:01:45.296423Z",
          "iopub.execute_input": "2021-11-11T16:01:45.296906Z",
          "iopub.status.idle": "2021-11-11T16:01:45.314567Z",
          "shell.execute_reply.started": "2021-11-11T16:01:45.296858Z",
          "shell.execute_reply": "2021-11-11T16:01:45.313388Z"
        },
        "trusted": true,
        "id": "tztZrAmXQe35"
      },
      "execution_count": null,
      "outputs": []
    },
    {
      "cell_type": "markdown",
      "source": [
        "<p><img alt=\"Insight logo\" src=\"https://drive.google.com/uc?export=view&id=15uX4fnuDMuki2xAnjK8wv-ifJhAkBtJ2\" align=\"left\" hspace=\"10px\" vspace=\"0px\"></p>\n",
        "\n",
        "<ul style=\"list-style-type:none;\">\n",
        "  <li style=\"font-weight: bold;font-family:'Times New Roman';font-size:30px;font-style: italic;color:  #6468e8\">Insights:</li>\n",
        "</ul>\n",
        "\n",
        "\n",
        "<div class=\"alert alert-info\" role=\"alert\">\n",
        "<ul style=\"list-style-type:none;font-family:Yu Mincho Demibold;font-size:20px;color:  black\"> \n",
        "<li>In this Dataset, we have the records of total <span style=\"color:#122ecc;\">10,657 Cities</span>.</li> \n",
        "<br>\n",
        "<li>7. <span style=\"font-weight: bold; color:#122ecc;\">11% (1167 Cities)</span> cities in US, have <span style=\"font-weight: bold; color:#122ecc;\">only 1</span> accident record in past 5 years.</li> \n",
        "<br>\n",
        "<li>8. Around <span style=\"font-weight: bold; color:#122ecc;\">81% (8,682 Cities)</span> of all cities in US, have <span style=\"font-weight: bold; color:#122ecc;\">less than 100</span> total no. of road accidents.</li>\n",
        "<br>\n",
        "<li>9. <span style=\"font-weight: bold; color:#122ecc;\">97.64% (10,406 Cities)</span> cities in US, have the road accident records (2016-2020), <span style=\"font-weight: bold; color:#122ecc;\">less than 1,000</span>.</li>\n",
        "<br>\n",
        "<li>10. There are <span style=\"font-weight: bold; color:#122ecc;\">251 Cities (2.36%)</span> in US, which have <span style=\"font-weight: bold; color:#122ecc;\">more than 1,000</span> total no. of road accidents in past 5 years.</li>\n",
        "<br>\n",
        "<li>11. <span style=\"font-weight: bold; color:#122ecc;\">40 Cities (0.38%)</span> in US, have <span style=\"font-weight: bold; color:#122ecc;\">more than 5,000</span> road accident records.</li>\n",
        "<br>\n",
        "<li>12. Only <span style=\"font-weight: bold; color:#122ecc;\">13 Cities (0.12%)</span> in US, have <span style=\"font-weight: bold; color:#122ecc;\">more than 10,000</span> road accident records.</li>\n",
        "</ul>\n",
        "</div>"
      ],
      "metadata": {
        "id": "Q6hi5S6GQe35"
      }
    },
    {
      "cell_type": "markdown",
      "source": [
        "<p><img alt=\"Insight logo\" src=\"https://drive.google.com/uc?export=view&id=1sJtIStrGS6tRxrEq0Q-9Q2_oc8HgHRim\" align=\"left\" hspace=\"10px\" vspace=\"27px\" width=\"75\" height=\"80\" ></p>\n",
        "\n",
        "<ul style=\"list-style-type:none;\">\n",
        "  <li style=\"font-weight: bold;font-family:Yu Mincho Demibold;font-size:40px;font-style: italic;color:  #6468e8\">State Analysis</li>\n",
        "</ul>"
      ],
      "metadata": {
        "id": "7o98Jr6lQe35"
      }
    },
    {
      "cell_type": "code",
      "source": [
        "# create a dictionary using US State code and their corresponding Name\n",
        "us_states = {'AK': 'Alaska',\n",
        " 'AL': 'Alabama',\n",
        " 'AR': 'Arkansas',\n",
        " 'AS': 'American Samoa',\n",
        " 'AZ': 'Arizona',\n",
        " 'CA': 'California',\n",
        " 'CO': 'Colorado',\n",
        " 'CT': 'Connecticut',\n",
        " 'DC': 'District of Columbia',\n",
        " 'DE': 'Delaware',\n",
        " 'FL': 'Florida',\n",
        " 'GA': 'Georgia',\n",
        " 'GU': 'Guam',\n",
        " 'HI': 'Hawaii',\n",
        " 'IA': 'Iowa',\n",
        " 'ID': 'Idaho',\n",
        " 'IL': 'Illinois',\n",
        " 'IN': 'Indiana',\n",
        " 'KS': 'Kansas',\n",
        " 'KY': 'Kentucky',\n",
        " 'LA': 'Louisiana',\n",
        " 'MA': 'Massachusetts',\n",
        " 'MD': 'Maryland',\n",
        " 'ME': 'Maine',\n",
        " 'MI': 'Michigan',\n",
        " 'MN': 'Minnesota',\n",
        " 'MO': 'Missouri',\n",
        " 'MP': 'Northern Mariana Islands',\n",
        " 'MS': 'Mississippi',\n",
        " 'MT': 'Montana',\n",
        " 'NC': 'North Carolina',\n",
        " 'ND': 'North Dakota',\n",
        " 'NE': 'Nebraska',\n",
        " 'NH': 'New Hampshire',\n",
        " 'NJ': 'New Jersey',\n",
        " 'NM': 'New Mexico',\n",
        " 'NV': 'Nevada',\n",
        " 'NY': 'New York',\n",
        " 'OH': 'Ohio',\n",
        " 'OK': 'Oklahoma',\n",
        " 'OR': 'Oregon',\n",
        " 'PA': 'Pennsylvania',\n",
        " 'PR': 'Puerto Rico',\n",
        " 'RI': 'Rhode Island',\n",
        " 'SC': 'South Carolina',\n",
        " 'SD': 'South Dakota',\n",
        " 'TN': 'Tennessee',\n",
        " 'TX': 'Texas',\n",
        " 'UT': 'Utah',\n",
        " 'VA': 'Virginia',\n",
        " 'VI': 'Virgin Islands',\n",
        " 'VT': 'Vermont',\n",
        " 'WA': 'Washington',\n",
        " 'WI': 'Wisconsin',\n",
        " 'WV': 'West Virginia',\n",
        " 'WY': 'Wyoming'}\n",
        "\n",
        "# create a dataframe of State and their corresponding accident cases\n",
        "state_df = pd.DataFrame(df['State'].value_counts()).reset_index().rename(columns={'index':'State', 'State':'Cases'})\n",
        "\n",
        "\n",
        "# Function to convert the State Code with the actual corressponding Name\n",
        "def convert(x): return us_states[x]\n",
        "\n",
        "state_df['State'] = state_df['State'].apply(convert)\n",
        "\n",
        "\n",
        "top_ten_states_name = list(state_df['State'].head(10))"
      ],
      "metadata": {
        "_kg_hide-input": true,
        "execution": {
          "iopub.status.busy": "2021-11-11T16:01:45.31631Z",
          "iopub.execute_input": "2021-11-11T16:01:45.317467Z",
          "iopub.status.idle": "2021-11-11T16:01:45.571465Z",
          "shell.execute_reply.started": "2021-11-11T16:01:45.317417Z",
          "shell.execute_reply": "2021-11-11T16:01:45.570521Z"
        },
        "jupyter": {
          "source_hidden": true
        },
        "trusted": true,
        "id": "8iwf5qzNQe35"
      },
      "execution_count": null,
      "outputs": []
    },
    {
      "cell_type": "code",
      "source": [
        "fig, ax = plt.subplots(figsize = (12,6), dpi = 80)\n",
        "\n",
        "cmap = cm.get_cmap('winter', 10)   \n",
        "clrs = [matplotlib.colors.rgb2hex(cmap(i)) for i in range(cmap.N)]\n",
        "\n",
        "ax=sns.barplot(y=state_df['Cases'].head(10), x=state_df['State'].head(10), palette='winter')\n",
        "ax1 = ax.twinx()\n",
        "sns.lineplot(data = state_df[:10], marker='o', x='State', y='Cases', color = 'white', alpha = .8)\n",
        "\n",
        "\n",
        "total = df.shape[0]\n",
        "for i in ax.patches:\n",
        "    ax.text(i.get_x()-0.2, i.get_height()+10000, \\\n",
        "            ' {:,d}\\n  ({}%) '.format(int(i.get_height()), round(100*i.get_height()/total, 1)), fontsize=15,\n",
        "                color='black')\n",
        "\n",
        "\n",
        "ax.set(ylim =(-10000, 600000))\n",
        "ax1.set(ylim =(-100000, 1700000))\n",
        "\n",
        "plt.title('\\nTop 10 States with most no. of \\nAccident cases in US (2016-2020)\\n', size=20, color='grey')\n",
        "ax1.axes.yaxis.set_visible(False)\n",
        "ax.set_xlabel('\\nStates\\n', fontsize=15, color='grey')\n",
        "ax.set_ylabel('\\nAccident Cases\\n', fontsize=15, color='grey')\n",
        "\n",
        "for i in ['top','right']:\n",
        "    side1 = ax.spines[i]\n",
        "    side1.set_visible(False)\n",
        "    side2 = ax1.spines[i]\n",
        "    side2.set_visible(False)\n",
        "    \n",
        "ax.set_axisbelow(True)\n",
        "ax.grid(color='#b2d6c7', linewidth=1, axis='y', alpha=.3)\n",
        "\n",
        "ax.spines['bottom'].set_bounds(0.005, 9)\n",
        "ax.spines['left'].set_bounds(0, 600000)\n",
        "ax1.spines['bottom'].set_bounds(0.005, 9)\n",
        "ax1.spines['left'].set_bounds(0, 600000)\n",
        "ax.tick_params(axis='y', which='major', labelsize=10.6)\n",
        "ax.tick_params(axis='x', which='major', labelsize=10.6, rotation=10)\n",
        "\n",
        "MA = mpatches.Patch(color=clrs[0], label='State with Maximum\\n no. of Road Accidents')\n",
        "ax.legend(handles=[MA], prop={'size': 10.5}, loc='best', borderpad=1, \n",
        "          labelcolor=clrs[0], edgecolor='white');\n"
      ],
      "metadata": {
        "_kg_hide-input": true,
        "execution": {
          "iopub.status.busy": "2021-11-11T16:01:45.573293Z",
          "iopub.execute_input": "2021-11-11T16:01:45.573674Z",
          "iopub.status.idle": "2021-11-11T16:01:46.10792Z",
          "shell.execute_reply.started": "2021-11-11T16:01:45.57363Z",
          "shell.execute_reply": "2021-11-11T16:01:46.106827Z"
        },
        "jupyter": {
          "source_hidden": true
        },
        "trusted": true,
        "id": "iMDtYeVtQe36"
      },
      "execution_count": null,
      "outputs": []
    },
    {
      "cell_type": "markdown",
      "source": [
        "<p><img alt=\"Insight logo\" src=\"https://drive.google.com/uc?export=view&id=15uX4fnuDMuki2xAnjK8wv-ifJhAkBtJ2\" align=\"left\" hspace=\"10px\" vspace=\"0px\"></p>\n",
        "\n",
        "<ul style=\"list-style-type:none;\">\n",
        "  <li style=\"font-weight: bold;font-family:'Times New Roman';font-size:30px;font-style: italic;color:  #6468e8\">Insights:</li>\n",
        "</ul>\n",
        "\n",
        "<div class=\"alert alert-info\" role=\"alert\">\n",
        "<ul style=\"list-style-type:none;font-family:Yu Mincho Demibold;font-size:20px;color:  black\">\n",
        "<li>13. In US, <span style=\"font-weight: bold; color:#122ecc\">California</span> is the state with <span style=\"font-weight: bold; color:#122ecc\">highest no. of road accidents </span> in past 5 years.</li>\n",
        "<br>\n",
        "<li>14. About <span style=\"font-weight: bold; color:#122ecc\">30%</span> of the total accident records of past 5 years in US is only from <span style=\"font-weight: bold; color:#122ecc\">California</span>.</li>\n",
        "<br>\n",
        "<li>15. In past 5 years, averagely <span style=\"font-weight: bold; color:#122ecc\">246 accidents (daily)</span> happened  in <span style=\"font-weight: bold; color:#122ecc\">California </span> implies approximately <span style=\"font-weight: bold; color:#122ecc\">10 accidents per hour</span>.</li>\n",
        "<br>\n",
        "<li>16. <span style=\"font-weight: bold; color:#122ecc\">Florida</span> is the <span style=\"font-weight: bold; color:#122ecc\">2nd highest (10% cases)</span> state for no. road accidents in US.</li> \n",
        "</ul>\n",
        "</div>"
      ],
      "metadata": {
        "id": "WSHDB-adQe36"
      }
    },
    {
      "cell_type": "code",
      "source": [
        "geometry = [Point(xy) for xy in zip(df['Start_Lng'], df['Start_Lat'])]\n",
        "geo_df = geopandas.GeoDataFrame(df, geometry=geometry)\n",
        "\n",
        "geo_df['year'] = geo_df.Start_Time.dt.year\n",
        "\n",
        "geo_df['State'] = geo_df['State'].apply(convert)"
      ],
      "metadata": {
        "execution": {
          "iopub.status.busy": "2021-11-11T16:01:46.109439Z",
          "iopub.execute_input": "2021-11-11T16:01:46.109847Z",
          "iopub.status.idle": "2021-11-11T16:02:11.099768Z",
          "shell.execute_reply.started": "2021-11-11T16:01:46.109799Z",
          "shell.execute_reply": "2021-11-11T16:02:11.098848Z"
        },
        "trusted": true,
        "id": "VXBaLPpeQe36"
      },
      "execution_count": null,
      "outputs": []
    },
    {
      "cell_type": "code",
      "source": [
        "fig, ax = plt.subplots(figsize=(15,15))\n",
        "ax.set_xlim([-125,-65])\n",
        "ax.set_ylim([22,55])\n",
        "\n",
        "states.boundary.plot(ax=ax, color='grey');\n",
        "states.apply(lambda x: None if (x.NAME not in top_ten_states_name) else ax.annotate(s=x.NAME, xy=x.geometry.centroid.coords[0], ha='center', color='black', weight='bold', fontsize=12.5), axis=1);\n",
        "\n",
        "# CFOTNYMVNPI\n",
        "colors = ['#FF5252','#9575CD','#FF8A80','#FF4081','#FFEE58','#7C4DFF','#00E5FF','#81D4FA','#64FFDA','#8C9EFF']\n",
        "count = 0\n",
        "for i in list(state_df['State'].head(10)):\n",
        "    geo_df[geo_df['State'] == i].plot(ax=ax, markersize=1, color=colors[count], marker='o');\n",
        "    count += 1\n",
        "\n",
        "for i in ['bottom', 'top', 'left', 'right']:\n",
        "    side = ax.spines[i]\n",
        "    side.set_visible(False)\n",
        "    \n",
        "plt.tick_params(top=False, bottom=False, left=False, right=False,\n",
        "                labelleft=False, labelbottom=False)\n",
        "\n",
        "plt.title('\\nVisualization of Top 10 Accident Prone States in US (2016-2020)', size=20, color='grey');"
      ],
      "metadata": {
        "_kg_hide-input": true,
        "execution": {
          "iopub.status.busy": "2021-11-11T16:02:11.101151Z",
          "iopub.execute_input": "2021-11-11T16:02:11.101387Z",
          "iopub.status.idle": "2021-11-11T16:04:09.405249Z",
          "shell.execute_reply.started": "2021-11-11T16:02:11.10136Z",
          "shell.execute_reply": "2021-11-11T16:04:09.40452Z"
        },
        "jupyter": {
          "source_hidden": true
        },
        "trusted": true,
        "id": "Mwkb5LqqQe37"
      },
      "execution_count": null,
      "outputs": []
    },
    {
      "cell_type": "code",
      "source": [
        "fig, ax = plt.subplots(figsize = (12,6), dpi = 80)\n",
        "\n",
        "cmap = cm.get_cmap('cool', 10)   \n",
        "clrs = [matplotlib.colors.rgb2hex(cmap(i)) for i in range(cmap.N)]\n",
        "\n",
        "ax=sns.barplot(y=state_df['Cases'].tail(10), x=state_df['State'].tail(10), palette='cool')\n",
        "ax1 = ax.twinx()\n",
        "sns.lineplot(data = state_df[-10:], marker='o', x='State', y='Cases', color = 'white', alpha = .8)\n",
        "\n",
        "total = df.shape[0]\n",
        "for i in ax.patches:\n",
        "    ax.text(i.get_x()-0.1, i.get_height()+100, \\\n",
        "            '  {:,d}\\n({}%) '.format(int(i.get_height()), round(100*i.get_height()/total, 2)), fontsize=15,\n",
        "                color='black')\n",
        "\n",
        "ax.set(ylim =(-50, 5000))\n",
        "ax1.set(ylim =(-50, 6000))\n",
        "\n",
        "plt.title('\\nTop 10 States with least no. of \\nAccident cases in US (2016-2020)\\n', size=20, color='grey')\n",
        "ax1.axes.yaxis.set_visible(False)\n",
        "ax.set_xlabel('\\nStates\\n', fontsize=15, color='grey')\n",
        "ax.set_ylabel('\\nAccident Cases\\n', fontsize=15, color='grey')\n",
        "\n",
        "for i in ['top', 'right']:\n",
        "    side = ax.spines[i]\n",
        "    side.set_visible(False)\n",
        "    side1 = ax1.spines[i]\n",
        "    side1.set_visible(False)\n",
        "    \n",
        "    \n",
        "ax.set_axisbelow(True)\n",
        "ax.grid(color='#b2d6c7', linewidth=1, axis='y', alpha=.3)\n",
        "\n",
        "ax.spines['bottom'].set_bounds(0.005, 9)\n",
        "ax.spines['left'].set_bounds(0, 5000)\n",
        "ax1.spines['bottom'].set_bounds(0.005, 9)\n",
        "ax1.spines['left'].set_bounds(0, 5000)\n",
        "ax.tick_params(axis='y', which='major', labelsize=11)\n",
        "ax.tick_params(axis='x', which='major', labelsize=11, rotation=15)\n",
        "\n",
        "MI = mpatches.Patch(color=clrs[-1], label='State with Minimum\\n no. of Road Accidents')\n",
        "ax.legend(handles=[MI], prop={'size': 10.5}, loc='best', borderpad=1, \n",
        "          labelcolor=clrs[-1], edgecolor='white');"
      ],
      "metadata": {
        "_kg_hide-input": true,
        "execution": {
          "iopub.status.busy": "2021-11-11T16:04:09.406361Z",
          "iopub.execute_input": "2021-11-11T16:04:09.406678Z",
          "iopub.status.idle": "2021-11-11T16:04:09.917247Z",
          "shell.execute_reply.started": "2021-11-11T16:04:09.406649Z",
          "shell.execute_reply": "2021-11-11T16:04:09.91636Z"
        },
        "jupyter": {
          "source_hidden": true
        },
        "trusted": true,
        "id": "0GokP1D2Qe37"
      },
      "execution_count": null,
      "outputs": []
    },
    {
      "cell_type": "markdown",
      "source": [
        "<p><img alt=\"Insight logo\" src=\"https://drive.google.com/uc?export=view&id=15uX4fnuDMuki2xAnjK8wv-ifJhAkBtJ2\" align=\"left\" hspace=\"10px\" vspace=\"0px\"></p>\n",
        "\n",
        "<ul style=\"list-style-type:none;\">\n",
        "  <li style=\"font-weight: bold;font-family:'Times New Roman';font-size:30px;font-style: italic;color:  #6468e8\">Insights:</li>\n",
        "</ul>\n",
        "\n",
        "<div class=\"alert alert-info\" role=\"alert\">\n",
        "<ul style=\"list-style-type:none;font-family:Yu Mincho Demibold;font-size:20px;color:  black\">\n",
        "<li>17. <span style=\"font-weight: bold; color:#122ecc\">South Dakota</span> is the city with <span style=\"font-weight: bold; color:#122ecc\">lowest no. of road accidents </span> in past 5 years.</li>\n",
        "<br>\n",
        "<li>18. Only <span style=\"font-weight: bold; color:#122ecc\">213</span> accidents took place in <span style=\"font-weight: bold; color:#122ecc\">South Dakota </span> in past 5 years implies <span style=\"font-weight: bold; color:#122ecc\">yearly 42 cases</span> in average.</li>  \n",
        "</ul>\n",
        "</div>"
      ],
      "metadata": {
        "id": "JeOq5Dy4Qe37"
      }
    },
    {
      "cell_type": "markdown",
      "source": [
        "<p><img alt=\"Insight logo\" src=\"https://drive.google.com/uc?export=view&id=1SMd1X0DQJ28Jvw8m5lGFolffRLvT_RPk\" align=\"left\" hspace=\"15px\" vspace=\"23px\" width=\"65\" height=\"70\" ></p>\n",
        "\n",
        "<ul style=\"list-style-type:none;\">\n",
        "  <li style=\"font-weight: bold;font-family:Yu Mincho Demibold;font-size:40px;font-style: italic;color:  #6468e8\">Timezone Analysis</li>\n",
        "</ul>"
      ],
      "metadata": {
        "id": "0Xgdt39pQe37"
      }
    },
    {
      "cell_type": "code",
      "source": [
        "timezone_df = pd.DataFrame(df['Timezone'].value_counts()).reset_index().rename(columns={'index':'Timezone', 'Timezone':'Cases'})"
      ],
      "metadata": {
        "execution": {
          "iopub.status.busy": "2021-11-11T16:04:09.918566Z",
          "iopub.execute_input": "2021-11-11T16:04:09.918808Z",
          "iopub.status.idle": "2021-11-11T16:04:10.167109Z",
          "shell.execute_reply.started": "2021-11-11T16:04:09.918778Z",
          "shell.execute_reply": "2021-11-11T16:04:10.165926Z"
        },
        "trusted": true,
        "id": "ow3nF2AeQe38"
      },
      "execution_count": null,
      "outputs": []
    },
    {
      "cell_type": "code",
      "source": [
        "fig, ax = plt.subplots(figsize = (10,6), dpi = 80)\n",
        "\n",
        "cmap = cm.get_cmap('spring', 4)   \n",
        "clrs = [matplotlib.colors.rgb2hex(cmap(i)) for i in range(cmap.N)]\n",
        "\n",
        "ax=sns.barplot(y=timezone_df['Cases'], x=timezone_df['Timezone'], palette='spring')\n",
        "\n",
        "total = df.shape[0]\n",
        "for i in ax.patches:\n",
        "    ax.text(i.get_x()+0.3, i.get_height()-50000, \\\n",
        "            '{}%'.format(round(i.get_height()*100/total)), fontsize=15,weight='bold',\n",
        "                color='white')\n",
        "    \n",
        "\n",
        "plt.ylim(-20000, 700000)\n",
        "plt.title('\\nPercentage of Accident Cases for \\ndifferent Timezone in US (2016-2020)\\n', size=20, color='grey')\n",
        "plt.ylabel('\\nAccident Cases\\n', fontsize=15, color='grey')\n",
        "plt.xlabel('\\nTimezones\\n', fontsize=15, color='grey')\n",
        "plt.xticks(fontsize=13)\n",
        "plt.yticks(fontsize=12)\n",
        "\n",
        "for i in ['top', 'right']:\n",
        "    side = ax.spines[i]\n",
        "    side.set_visible(False)\n",
        "    \n",
        "ax.set_axisbelow(True)\n",
        "ax.grid(color='#b2d6c7', linewidth=1, axis='y', alpha=.3)\n",
        "ax.spines['bottom'].set_bounds(0.005, 3)\n",
        "ax.spines['left'].set_bounds(0, 700000)\n",
        "\n",
        "MA = mpatches.Patch(color=clrs[0], label='Timezone with Maximum\\n no. of Road Accidents')\n",
        "MI = mpatches.Patch(color=clrs[-1], label='Timezone with Minimum\\n no. of Road Accidents')\n",
        "ax.legend(handles=[MA, MI], prop={'size': 10.5}, loc='best', borderpad=1, \n",
        "          labelcolor=[clrs[0], 'grey'], edgecolor='white');"
      ],
      "metadata": {
        "_kg_hide-input": true,
        "execution": {
          "iopub.status.busy": "2021-11-11T16:04:10.169534Z",
          "iopub.execute_input": "2021-11-11T16:04:10.169857Z",
          "iopub.status.idle": "2021-11-11T16:04:10.509974Z",
          "shell.execute_reply.started": "2021-11-11T16:04:10.169811Z",
          "shell.execute_reply": "2021-11-11T16:04:10.509111Z"
        },
        "jupyter": {
          "source_hidden": true
        },
        "trusted": true,
        "id": "YCxwfEJsQe38"
      },
      "execution_count": null,
      "outputs": []
    },
    {
      "cell_type": "markdown",
      "source": [
        "<p><img alt=\"Insight logo\" src=\"https://drive.google.com/uc?export=view&id=15uX4fnuDMuki2xAnjK8wv-ifJhAkBtJ2\" align=\"left\" hspace=\"10px\" vspace=\"0px\"></p>\n",
        "\n",
        "<ul style=\"list-style-type:none;\">\n",
        "  <li style=\"font-weight: bold;font-family:'Times New Roman';font-size:30px;font-style: italic;color:  #6468e8\">Insights:</li>\n",
        "</ul>\n",
        "\n",
        "<div class=\"alert alert-info\" role=\"alert\">\n",
        "<ul style=\"list-style-type:none;font-family:Yu Mincho Demibold;font-size:20px;color:  black\">\n",
        "<li>19. <span style=\"font-weight: bold; color:#122ecc\">Eastern</span> time zone region of US has the <span style=\"font-weight: bold; color:#122ecc\">highest no. of road accident cases (39%)</span> in past 5 years.</li>\n",
        "<br>\n",
        "<li>20. <span style=\"font-weight: bold; color:#122ecc\">Mountain</span> time zone region of US has the <span style=\"font-weight: bold; color:#122ecc\">lowest no. of road accident cases (6%)</span> in past 5 years.</li>\n",
        "</ul>\n",
        "</div>"
      ],
      "metadata": {
        "id": "tE1lVBZcQe38"
      }
    },
    {
      "cell_type": "code",
      "source": [
        "fig, ax = plt.subplots(figsize=(15,15))\n",
        "ax.set_xlim([-125,-65])\n",
        "ax.set_ylim([22,55])\n",
        "states.boundary.plot(ax=ax, color='black');\n",
        "\n",
        "colors = ['#00db49', '#ff5e29', '#88ff33', '#fffb29']\n",
        "#4132\n",
        "count = 0\n",
        "for i in list(timezone_df.Timezone):\n",
        "    geo_df[geo_df['Timezone'] == i].plot(ax=ax, markersize=1, color=colors[count], marker='o', label=i);\n",
        "    count += 1\n",
        "\n",
        "plt.legend(markerscale=10., prop={'size': 15}, edgecolor='white', title=\"Timezones\", title_fontsize=15, loc='lower right');\n",
        "\n",
        "for i in ['bottom', 'top', 'left', 'right']:\n",
        "    side = ax.spines[i]\n",
        "    side.set_visible(False)\n",
        "    \n",
        "plt.tick_params(top=False, bottom=False, left=False, right=False,\n",
        "                labelleft=False, labelbottom=False)\n",
        "\n",
        "plt.title('\\nVisualization of Road Accidents \\nfor different Timezones in US (2016-2020)', size=20, color='grey');"
      ],
      "metadata": {
        "_kg_hide-input": true,
        "execution": {
          "iopub.status.busy": "2021-11-11T16:04:10.511327Z",
          "iopub.execute_input": "2021-11-11T16:04:10.512198Z",
          "iopub.status.idle": "2021-11-11T16:06:50.497971Z",
          "shell.execute_reply.started": "2021-11-11T16:04:10.512157Z",
          "shell.execute_reply": "2021-11-11T16:06:50.497338Z"
        },
        "jupyter": {
          "source_hidden": true
        },
        "trusted": true,
        "id": "lTcORZAmQe38"
      },
      "execution_count": null,
      "outputs": []
    },
    {
      "cell_type": "markdown",
      "source": [
        "<p><img alt=\"Insight logo\" src=\"https://drive.google.com/uc?export=view&id=1Q86nyt6kw2QItXOeQooc9eUWJJSfns7x\" align=\"left\" hspace=\"20px\" vspace=\"23px\" width=\"50\" height=\"60\" ></p>\n",
        "\n",
        "<ul style=\"list-style-type:none;\">\n",
        "  <li style=\"font-weight: bold;font-family:Yu Mincho Demibold;font-size:40px;font-style: italic;color:  #6468e8\">Street Analysis</li>\n",
        "</ul>"
      ],
      "metadata": {
        "id": "5q5Zl_alQe38"
      }
    },
    {
      "cell_type": "code",
      "source": [
        "# create a dataframe of Street and their corresponding accident cases\n",
        "street_df = pd.DataFrame(df['Street'].value_counts()).reset_index().rename(columns={'index':'Street No.', 'Street':'Cases'})"
      ],
      "metadata": {
        "execution": {
          "iopub.status.busy": "2021-11-11T16:06:50.499007Z",
          "iopub.execute_input": "2021-11-11T16:06:50.499407Z",
          "iopub.status.idle": "2021-11-11T16:06:50.865395Z",
          "shell.execute_reply.started": "2021-11-11T16:06:50.499375Z",
          "shell.execute_reply": "2021-11-11T16:06:50.864478Z"
        },
        "trusted": true,
        "id": "sF0vtBfxQe39"
      },
      "execution_count": null,
      "outputs": []
    },
    {
      "cell_type": "code",
      "source": [
        "top_ten_streets_df = pd.DataFrame(street_df.head(10))"
      ],
      "metadata": {
        "execution": {
          "iopub.status.busy": "2021-11-11T16:06:50.866702Z",
          "iopub.execute_input": "2021-11-11T16:06:50.866926Z",
          "iopub.status.idle": "2021-11-11T16:06:50.871327Z",
          "shell.execute_reply.started": "2021-11-11T16:06:50.866899Z",
          "shell.execute_reply": "2021-11-11T16:06:50.870316Z"
        },
        "trusted": true,
        "id": "mximBWSIQe39"
      },
      "execution_count": null,
      "outputs": []
    },
    {
      "cell_type": "code",
      "source": [
        "fig, ax = plt.subplots(figsize = (12,6), dpi = 80)\n",
        "        \n",
        "cmap = cm.get_cmap('gnuplot2', 10)   \n",
        "clrs = [matplotlib.colors.rgb2hex(cmap(i)) for i in range(cmap.N)]\n",
        "\n",
        "ax=sns.barplot(y=top_ten_streets_df['Cases'], x=top_ten_streets_df['Street No.'], palette='gnuplot2')\n",
        "ax1 = ax.twinx()\n",
        "sns.lineplot(data = top_ten_streets_df, marker='o', x='Street No.', y='Cases', color = 'white', alpha = .8)\n",
        "\n",
        "total = df.shape[0]\n",
        "for i in ax.patches:\n",
        "    ax.text(i.get_x()+0.04, i.get_height()-2000, \\\n",
        "            '{:,d}'.format(int(i.get_height())), fontsize=12.5,weight='bold',\n",
        "                color='white')\n",
        "    \n",
        "ax.axes.set_ylim(-1000, 30000)\n",
        "ax1.axes.set_ylim(-1000, 40000)\n",
        "plt.title('\\nTop 10 Accident Prone Streets in US (2016-2020)\\n', size=20, color='grey')\n",
        "\n",
        "ax1.axes.yaxis.set_visible(False)\n",
        "ax.set_xlabel('\\nStreet No.\\n', fontsize=15, color='grey')\n",
        "ax.set_ylabel('\\nAccident Cases\\n', fontsize=15, color='grey')\n",
        "\n",
        "for i in ['top','right']:\n",
        "    side1 = ax.spines[i]\n",
        "    side1.set_visible(False)\n",
        "    side2 = ax1.spines[i]\n",
        "    side2.set_visible(False)\n",
        "\n",
        "    \n",
        "ax.set_axisbelow(True)\n",
        "ax.grid(color='#b2d6c7', linewidth=1, axis='y', alpha=.3)\n",
        "\n",
        "ax.spines['bottom'].set_bounds(0.005, 9)\n",
        "ax.spines['left'].set_bounds(0, 30000)\n",
        "ax1.spines['bottom'].set_bounds(0.005, 9)\n",
        "ax1.spines['left'].set_bounds(0, 30000)\n",
        "ax.tick_params(axis='both', which='major', labelsize=12)\n",
        "\n",
        "MA = mpatches.Patch(color=clrs[1], label='Street with Maximum\\n no. of Road Accidents')\n",
        "MI = mpatches.Patch(color=clrs[-2], label='Street with Minimum\\n no. of Road Accidents')\n",
        "ax.legend(handles=[MA, MI], prop={'size': 10.5}, loc='best', borderpad=1, \n",
        "          labelcolor=[clrs[1], 'grey'], edgecolor='white');"
      ],
      "metadata": {
        "_kg_hide-input": true,
        "execution": {
          "iopub.status.busy": "2021-11-11T16:06:50.872683Z",
          "iopub.execute_input": "2021-11-11T16:06:50.872916Z",
          "iopub.status.idle": "2021-11-11T16:06:51.372619Z",
          "shell.execute_reply.started": "2021-11-11T16:06:50.87288Z",
          "shell.execute_reply": "2021-11-11T16:06:51.371729Z"
        },
        "jupyter": {
          "source_hidden": true
        },
        "trusted": true,
        "id": "2Jt12zdMQe39"
      },
      "execution_count": null,
      "outputs": []
    },
    {
      "cell_type": "markdown",
      "source": [
        "<p><img alt=\"Insight logo\" src=\"https://drive.google.com/uc?export=view&id=15uX4fnuDMuki2xAnjK8wv-ifJhAkBtJ2\" align=\"left\" hspace=\"10px\" vspace=\"0px\"></p>\n",
        "\n",
        "<ul style=\"list-style-type:none;\">\n",
        "  <li style=\"font-weight: bold;font-family:'Times New Roman';font-size:30px;font-style: italic;color:  #6468e8\">Insights:</li>\n",
        "</ul>\n",
        "\n",
        "<div class=\"alert alert-info\" role=\"alert\">\n",
        "<ul style=\"list-style-type:none;font-family:Yu Mincho Demibold;font-size:20px;color:  black\">\n",
        "<li>21. In last 5 years (2016-2020) <span style=\"font-weight: bold; color:#122ecc\">Street No. I-5 N</span> is having the <span style=\"font-weight: bold; color:#122ecc\">highest road accidents records</span>.</li>\n",
        "<br>\n",
        "<li>22. In <span style=\"font-weight: bold; color:#122ecc\">Street No. I-5 N</span>, daily <span style=\"font-weight: bold; color:#122ecc\">14 accidents</span> occurred in average.</li>\n",
        "</ul>\n",
        "</div>"
      ],
      "metadata": {
        "id": "kyozyDEGQe39"
      }
    },
    {
      "cell_type": "code",
      "source": [
        "def street_cases_percentage(val, operator):\n",
        "    if operator == '=':\n",
        "        val = street_df[street_df['Cases']==val].shape[0]\n",
        "    elif operator == '>':\n",
        "        val = street_df[street_df['Cases']>val].shape[0]\n",
        "    elif operator == '<':\n",
        "        val = street_df[street_df['Cases']<val].shape[0]\n",
        "    print('{:,d} Streets, {}%'.format(val, round(val*100/street_df.shape[0], 2)))\n",
        "    \n",
        "    \n",
        "street_cases_percentage(1, '=')\n",
        "street_cases_percentage(100, '<')\n",
        "street_cases_percentage(1000, '<')\n",
        "street_cases_percentage(1000, '>')\n",
        "street_cases_percentage(5000, '>')"
      ],
      "metadata": {
        "execution": {
          "iopub.status.busy": "2021-11-11T16:06:51.374082Z",
          "iopub.execute_input": "2021-11-11T16:06:51.374866Z",
          "iopub.status.idle": "2021-11-11T16:06:51.402983Z",
          "shell.execute_reply.started": "2021-11-11T16:06:51.374821Z",
          "shell.execute_reply": "2021-11-11T16:06:51.402136Z"
        },
        "trusted": true,
        "id": "8RwUsExmQe39"
      },
      "execution_count": null,
      "outputs": []
    },
    {
      "cell_type": "markdown",
      "source": [
        "<p><img alt=\"Insight logo\" src=\"https://drive.google.com/uc?export=view&id=15uX4fnuDMuki2xAnjK8wv-ifJhAkBtJ2\" align=\"left\" hspace=\"10px\" vspace=\"0px\"></p>\n",
        "\n",
        "<ul style=\"list-style-type:none;\">\n",
        "  <li style=\"font-weight: bold;font-family:'Times New Roman';font-size:30px;font-style: italic;color:  #6468e8\">Insights:</li>\n",
        "</ul>\n",
        "\n",
        "<div class=\"alert alert-info\" role=\"alert\">\n",
        "<ul style=\"list-style-type:none;font-family:Yu Mincho Demibold;font-size:20px;color:  black\">    \n",
        "<li>In Our dataset, there are <span style=\"color:#122ecc;\">total 93,048 Streets</span> enlisted for accidental cases,</li>\n",
        "<br>\n",
        "<li>23. There are <span style=\"font-weight: bold; color:#122ecc\">36,441 Streets (39%)</span> in US which have <span style=\"font-weight: bold; color:#122ecc\">only 1 accident </span> record in past 5 years.</li>\n",
        "<br>\n",
        "<li>24. <span style=\"font-weight: bold; color:#122ecc\">98% Streets</span> of US, have <span style=\"font-weight: bold; color:#122ecc\">less than 100</span> road accident cases.</li>\n",
        "<br>\n",
        "<li>25. Only <span style=\"font-weight: bold; color:#122ecc\">0.2% Streets</span> in US have the accident cases <span style=\"font-weight: bold; color:#122ecc\">greater than 1000</span>.</li>\n",
        "<br>\n",
        "<li>26. In last 5 years record of road accidents, only <span style=\"font-weight: bold; color:#122ecc\">24 Streets (0.03%)</span> have <span style=\"font-weight: bold; color:#122ecc\">greater than 5000</span> cases.</li>   \n",
        "</ul>\n",
        "</div>"
      ],
      "metadata": {
        "id": "o11zt008Qe3-"
      }
    },
    {
      "cell_type": "markdown",
      "source": [
        "<p><img alt=\"Insight logo\" src=\"https://drive.google.com/uc?export=view&id=1S8LdQuNiA350_8L4jg0hPgzy277ujPvY\" align=\"left\" hspace=\"15px\" vspace=\"23px\" width=\"75\" height=\"80\" ></p>\n",
        "\n",
        "<ul style=\"list-style-type:none;\">\n",
        "  <li style=\"font-weight: bold;font-family:Yu Mincho Demibold;font-size:40px;font-style: italic;color:  #6468e8\">Severity Analysis</li>\n",
        "</ul>"
      ],
      "metadata": {
        "id": "5dvHR7QmQe3-"
      }
    },
    {
      "cell_type": "markdown",
      "source": [
        "<p style=\"font-size:20px;\">\n",
        "It Shows the severity of the accident, a number between 1 and 4, where <span style=\"color:#122ecc;\">1</span> indicates the <span style=\"color:#122ecc;\">least impact on traffic (i.e., short delay as a result of the accident)</span> and <span style=\"color:#122ecc;\">4 indicates a significant impact on traffic (i.e., long delay)</span>. Note that severity reported by different sources may differ in their underlying impact on traffic, so please separate data from different sources when doing severity-based analysis.\n",
        "</p>"
      ],
      "metadata": {
        "id": "wvqLX5LXQe3-"
      }
    },
    {
      "cell_type": "code",
      "source": [
        "# create a dataframe of Severity and the corresponding accident cases\n",
        "severity_df = pd.DataFrame(df['Severity'].value_counts()).rename(columns={'index':'Severity', 'Severity':'Cases'})"
      ],
      "metadata": {
        "execution": {
          "iopub.status.busy": "2021-11-11T16:06:51.404339Z",
          "iopub.execute_input": "2021-11-11T16:06:51.404992Z",
          "iopub.status.idle": "2021-11-11T16:06:51.418964Z",
          "shell.execute_reply.started": "2021-11-11T16:06:51.404953Z",
          "shell.execute_reply": "2021-11-11T16:06:51.41831Z"
        },
        "trusted": true,
        "id": "YlmO7mgZQe3-"
      },
      "execution_count": null,
      "outputs": []
    },
    {
      "cell_type": "code",
      "source": [
        "fig = go.Figure(go.Funnelarea(\n",
        "    text = [\"Severity - 2\",\"Severity - 3\", \"Severity - 4\", \"Severity - 1\"],\n",
        "    values = severity_df.Cases,\n",
        "    title = {\"position\": \"top center\", \n",
        "             \"text\": \"<b>Impact on the Traffic due to the Accidents</b>\", \n",
        "             'font':dict(size=18,color=\"#7f7f7f\")},\n",
        "    marker = {\"colors\": ['#14a3ee', '#b4e6ee', '#fdf4b8', '#ff4f4e'],\n",
        "                \"line\": {\"color\": [\"#e8e8e8\", \"wheat\", \"wheat\", \"wheat\"], \"width\": [7, 0, 0, 2]}}\n",
        "    ))\n",
        "\n",
        "fig.show()"
      ],
      "metadata": {
        "execution": {
          "iopub.status.busy": "2021-11-11T16:06:51.42043Z",
          "iopub.execute_input": "2021-11-11T16:06:51.42089Z",
          "iopub.status.idle": "2021-11-11T16:06:51.535165Z",
          "shell.execute_reply.started": "2021-11-11T16:06:51.420855Z",
          "shell.execute_reply": "2021-11-11T16:06:51.534265Z"
        },
        "trusted": true,
        "id": "UE_gue2yQe3-"
      },
      "execution_count": null,
      "outputs": []
    },
    {
      "cell_type": "markdown",
      "source": [
        "<p><img alt=\"Insight logo\" src=\"https://drive.google.com/uc?export=view&id=15uX4fnuDMuki2xAnjK8wv-ifJhAkBtJ2\" align=\"left\" hspace=\"10px\" vspace=\"0px\"></p>\n",
        "\n",
        "<ul style=\"list-style-type:none;\">\n",
        "  <li style=\"font-weight: bold;font-family:'Times New Roman';font-size:30px;font-style: italic;color:  #6468e8\">Insights:</li>\n",
        "</ul>\n",
        "\n",
        "<div class=\"alert alert-info\" role=\"alert\">\n",
        "<ul style=\"list-style-type:none;font-family:Yu Mincho Demibold;font-size:20px;color:  black\">    \n",
        "<li>27. In <span style=\"font-weight: bold;color:#122ecc;\">80% Cases</span> of road accidents, the impact on the traffic was <span style=\"font-weight: bold;color:#122ecc;\">Moderate (Severity-2)</span>.</li>\n",
        "<br>\n",
        "<li>28. In <span style=\"font-weight: bold;color:#122ecc;\">7.5% Cases</span> of road accidents, the impact on the traffic was <span style=\"font-weight: bold;color:#122ecc;\">highly Severe (Severity-4)</span>.</li>\n",
        "</ul>\n",
        "</div>"
      ],
      "metadata": {
        "id": "8QG369_1Qe3-"
      }
    },
    {
      "cell_type": "code",
      "source": [
        "fig, ax = plt.subplots(figsize=(15,15))\n",
        "ax.set_xlim([-125,-65])\n",
        "ax.set_ylim([22,55])\n",
        "states.boundary.plot(ax=ax, color='black');\n",
        "\n",
        "geo_df[geo_df['Severity'] == 1].plot(ax=ax, markersize=50, color='#5cff4a', marker='o', label='Severity 1');\n",
        "geo_df[geo_df['Severity'] == 3].plot(ax=ax, markersize=10, color='#ff1c1c', marker='x', label='Severity 3');\n",
        "geo_df[geo_df['Severity'] == 4].plot(ax=ax, markersize=1, color='#6459ff', marker='v', label='Severity 4');\n",
        "geo_df[geo_df['Severity'] == 2].plot(ax=ax, markersize=5, color='#ffb340', marker='+', label='Severity 2');\n",
        "\n",
        "for i in ['bottom', 'top', 'left', 'right']:\n",
        "    side = ax.spines[i]\n",
        "    side.set_visible(False)\n",
        "    \n",
        "plt.tick_params(top=False, bottom=False, left=False, right=False,\n",
        "                labelleft=False, labelbottom=False)\n",
        "\n",
        "plt.title('\\nDifferent level of Severity visualization in US map', size=20, color='grey');\n",
        "\n",
        "One = mpatches.Patch(color='#5cff4a', label='Severity 1')\n",
        "Two = mpatches.Patch(color='#ffb340', label='Severity 2')\n",
        "Three = mpatches.Patch(color='#ff1c1c', label='Severity 3')\n",
        "Four = mpatches.Patch(color='#6459ff', label='Severity 4')\n",
        "\n",
        "ax.legend(handles=[One, Two, Three, Four], prop={'size': 15}, loc='lower right', borderpad=1, \n",
        "          labelcolor=['#5cff4a', '#ffb340', '#ff1c1c', '#6459ff'], edgecolor='white');"
      ],
      "metadata": {
        "_kg_hide-input": true,
        "execution": {
          "iopub.status.busy": "2021-11-11T16:06:51.536387Z",
          "iopub.execute_input": "2021-11-11T16:06:51.536623Z",
          "iopub.status.idle": "2021-11-11T16:09:29.642927Z",
          "shell.execute_reply.started": "2021-11-11T16:06:51.536593Z",
          "shell.execute_reply": "2021-11-11T16:09:29.642205Z"
        },
        "jupyter": {
          "source_hidden": true
        },
        "trusted": true,
        "id": "3ZTzrDgEQe3_"
      },
      "execution_count": null,
      "outputs": []
    },
    {
      "cell_type": "markdown",
      "source": [
        "<p><img alt=\"Insight logo\" src=\"https://drive.google.com/uc?export=view&id=16WjYIfoUzn4uY2PeItGTOlfZODUwzmMZ\" align=\"left\" hspace=\"15px\" vspace=\"20px\" width=\"50\" height=\"60\" ></p>\n",
        "\n",
        "<ul style=\"list-style-type:none;\">\n",
        "  <li style=\"font-weight: bold;font-family:Yu Mincho Demibold;font-size:40px;font-style: italic;color:  #6468e8\">Time Analysis</li>\n",
        "</ul>"
      ],
      "metadata": {
        "id": "LxgTBFqXQe3_"
      }
    },
    {
      "cell_type": "markdown",
      "source": [
        "<p style=\"font-size:20px;\">\n",
        "In this dataset we have <span style=\"color:#122ecc;\">Start_Time & End_Time</span> for the timings of each accident.\n",
        "<span style=\"color:#122ecc;\">Start_Time</span> shows start time of the accident in <span style=\"color:#122ecc;\">local time zone</span>.\n",
        "End_Time shows end time of the accident in local time zone. <span style=\"color:#122ecc;\">End time</span> here refers to when the impact of accident on <span style=\"color:#122ecc;\">traffic flow</span>.\n",
        "</p>"
      ],
      "metadata": {
        "id": "Z6EfY0XhQe3_"
      }
    },
    {
      "cell_type": "markdown",
      "source": [
        "<p><img alt=\"Insight logo\" src=\"https://drive.google.com/uc?export=view&id=1VKyR9PPYM2FhvWyy1BwYCmxWKGWfU4nW\" align=\"left\" hspace=\"15px\" vspace=\"20px\" width=\"50\" height=\"60\" ></p>\n",
        "\n",
        "<ul style=\"list-style-type:none;\">\n",
        "  <li style=\"font-weight: bold;font-family:Yu Mincho Demibold;font-size:40px;font-style: italic;color:  #6468e8\">Accident Duration Analysis</li>\n",
        "</ul>"
      ],
      "metadata": {
        "id": "XxrGYka_Qe3_"
      }
    },
    {
      "cell_type": "code",
      "source": [
        "accident_duration_df = pd.DataFrame(df['End_Time'] - df['Start_Time']).reset_index().rename(columns={'index':'Id', 0:'Duration'})"
      ],
      "metadata": {
        "execution": {
          "iopub.status.busy": "2021-11-11T16:09:29.647221Z",
          "iopub.execute_input": "2021-11-11T16:09:29.647919Z",
          "iopub.status.idle": "2021-11-11T16:09:29.685866Z",
          "shell.execute_reply.started": "2021-11-11T16:09:29.647881Z",
          "shell.execute_reply": "2021-11-11T16:09:29.684776Z"
        },
        "trusted": true,
        "id": "PIbHW1jVQe3_"
      },
      "execution_count": null,
      "outputs": []
    },
    {
      "cell_type": "code",
      "source": [
        "top_10_accident_duration_df = pd.DataFrame(accident_duration_df['Duration'].value_counts().head(10).sample(frac = 1)).reset_index().rename(columns={'index':'Duration', 'Duration':'Cases'})\n",
        "\n",
        "Duration = [str(i).split('days')[-1].strip() for i in top_10_accident_duration_df.Duration]\n",
        "\n",
        "top_10_accident_duration_df['Duration'] = Duration"
      ],
      "metadata": {
        "execution": {
          "iopub.status.busy": "2021-11-11T16:09:29.687192Z",
          "iopub.execute_input": "2021-11-11T16:09:29.687471Z",
          "iopub.status.idle": "2021-11-11T16:09:29.719844Z",
          "shell.execute_reply.started": "2021-11-11T16:09:29.687441Z",
          "shell.execute_reply": "2021-11-11T16:09:29.718603Z"
        },
        "trusted": true,
        "id": "iSSe2KxoQe3_"
      },
      "execution_count": null,
      "outputs": []
    },
    {
      "cell_type": "code",
      "source": [
        "fig, ax = plt.subplots(figsize = (12,6), dpi = 80)\n",
        "ax.set_facecolor('#e6f2ed')\n",
        "fig.patch.set_facecolor('#e6f2ed')\n",
        "\n",
        "cmap = cm.get_cmap('bwr', 10)   \n",
        "clrs = [matplotlib.colors.rgb2hex(cmap(i)) for i in range(cmap.N)]\n",
        "\n",
        "ax=sns.barplot(y=top_10_accident_duration_df['Cases'], x=top_10_accident_duration_df['Duration'], palette='bwr')\n",
        "ax1 = ax.twinx()\n",
        "sns.lineplot(data = top_10_accident_duration_df, marker='o', x='Duration', y='Cases', color = 'white', alpha = 1)\n",
        "\n",
        "total = df.shape[0]\n",
        "for i in ax.patches:\n",
        "    ax.text(i.get_x(), i.get_height()+5000, \\\n",
        "            str(round((i.get_height()/total)*100, 2))+'%', fontsize=15,\n",
        "                color='black')\n",
        "\n",
        "ax.set(ylim =(1000, 400000))\n",
        "ax1.set(ylim =(1000, 500000))\n",
        "\n",
        "plt.title('\\nMost Impacted Durations on the \\nTraffic flow due to the Accidents \\n', size=20, color='grey')\n",
        "\n",
        "ax1.axes.yaxis.set_visible(False)\n",
        "ax.set_xlabel('\\nDuration of Accident (HH:MM:SS)\\n', fontsize=15, color='grey')\n",
        "ax.set_ylabel('\\nAccident Cases\\n', fontsize=15, color='grey')\n",
        "\n",
        "for i in ['bottom', 'top', 'left', 'right']:\n",
        "    ax.spines[i].set_color('white')\n",
        "    ax.spines[i].set_linewidth(1.5)\n",
        "    ax1.spines[i].set_color('white')\n",
        "    ax1.spines[i].set_linewidth(1.5)\n",
        "    \n",
        "ax.set_axisbelow(True)\n",
        "ax.grid(color='white', linewidth=1.5)\n",
        "ax.tick_params(axis='both', which='major', labelsize=12)\n",
        "MA = mpatches.Patch(color=clrs[-3], label='Duration with Maximum\\n no. of Road Accidents')\n",
        "ax.legend(handles=[MA], prop={'size': 10.5}, loc='best', borderpad=1, \n",
        "          labelcolor=clrs[-3], facecolor='#e6f2ed', edgecolor='#e6f2ed');"
      ],
      "metadata": {
        "_kg_hide-input": true,
        "execution": {
          "iopub.status.busy": "2021-11-11T16:09:29.72283Z",
          "iopub.execute_input": "2021-11-11T16:09:29.723298Z",
          "iopub.status.idle": "2021-11-11T16:09:30.254036Z",
          "shell.execute_reply.started": "2021-11-11T16:09:29.723237Z",
          "shell.execute_reply": "2021-11-11T16:09:30.253155Z"
        },
        "jupyter": {
          "source_hidden": true
        },
        "trusted": true,
        "id": "g3GmczJqQe4A"
      },
      "execution_count": null,
      "outputs": []
    },
    {
      "cell_type": "markdown",
      "source": [
        "<p><img alt=\"Insight logo\" src=\"https://drive.google.com/uc?export=view&id=15uX4fnuDMuki2xAnjK8wv-ifJhAkBtJ2\" align=\"left\" hspace=\"10px\" vspace=\"0px\"></p>\n",
        "\n",
        "<ul style=\"list-style-type:none;\">\n",
        "  <li style=\"font-weight: bold;font-family:'Times New Roman';font-size:30px;font-style: italic;color:  #6468e8\">Insight:</li>\n",
        "</ul>\n",
        "\n",
        "<div class=\"alert alert-info\" role=\"alert\">\n",
        "<ul style=\"list-style-type:none;font-family:Yu Mincho Demibold;font-size:20px;color:  black\">   \n",
        "<li>29. From the above plot, it is inferred that <span style=\"font-weight: bold;color:#122ecc\">majority (24.25%)</span> of road accidents, have impacted on the traffic flow for <span style=\"font-weight: bold;color:#122ecc;\">6 hours</span>.</li>   \n",
        "</ul>\n",
        "</div>"
      ],
      "metadata": {
        "id": "7wJ_NLQQQe4A"
      }
    },
    {
      "cell_type": "markdown",
      "source": [
        "<p><img alt=\"Insight logo\" src=\"https://drive.google.com/uc?export=view&id=1KLPBME8hlKLSmdJx9XHXpJYEYdR1Huj3\" align=\"left\" hspace=\"15px\" vspace=\"20px\" width=\"50\" height=\"60\" ></p>\n",
        "\n",
        "<ul style=\"list-style-type:none;\">\n",
        "  <li style=\"font-weight: bold;font-family:Yu Mincho Demibold;font-size:40px;font-style: italic;color:  #6468e8\">Year Analysis</li>\n",
        "</ul>"
      ],
      "metadata": {
        "id": "dVxnSzFOQe4A"
      }
    },
    {
      "cell_type": "code",
      "source": [
        "year_df = pd.DataFrame(df.Start_Time.dt.year.value_counts()).reset_index().rename(columns={'index':'Year', 'Start_Time':'Cases'}).sort_values(by='Cases', ascending=True)"
      ],
      "metadata": {
        "execution": {
          "iopub.status.busy": "2021-11-11T16:09:30.255162Z",
          "iopub.execute_input": "2021-11-11T16:09:30.255405Z",
          "iopub.status.idle": "2021-11-11T16:09:30.412467Z",
          "shell.execute_reply.started": "2021-11-11T16:09:30.255377Z",
          "shell.execute_reply": "2021-11-11T16:09:30.411686Z"
        },
        "trusted": true,
        "id": "8Vkg_graQe4A"
      },
      "execution_count": null,
      "outputs": []
    },
    {
      "cell_type": "code",
      "source": [
        "fig, ax = plt.subplots(figsize = (12,6), dpi = 80)\n",
        "\n",
        "ax=sns.barplot(y=year_df['Cases'], x=year_df['Year'], palette=['#9a90e8', '#5d82de', '#3ee6e0', '#40ff53','#2ee88e'])\n",
        "\n",
        "total = df.shape[0]\n",
        "for i in ax.patches:\n",
        "    ax.text(i.get_x()+0.2, i.get_height()-50000, \\\n",
        "            str(round((i.get_height()/total)*100, 2))+'%', fontsize=15,weight='bold',\n",
        "                color='white')\n",
        "\n",
        "plt.ylim(10000, 900000)\n",
        "plt.title('\\nRoad Accident Percentage \\nover past 5 Years in US (2016-2020)\\n', size=20, color='grey')\n",
        "plt.ylabel('\\nAccident Cases\\n', fontsize=15, color='grey')\n",
        "plt.xlabel('\\nYears\\n', fontsize=15, color='grey')\n",
        "plt.xticks(fontsize=13)\n",
        "plt.yticks(fontsize=12)\n",
        "for i in ['bottom', 'top', 'left', 'right']:\n",
        "    ax.spines[i].set_color('white')\n",
        "    ax.spines[i].set_linewidth(1.5)\n",
        "    \n",
        "\n",
        "for k in ['top', 'right', \"bottom\", 'left']:\n",
        "        side = ax.spines[k]\n",
        "        side.set_visible(False)\n",
        "\n",
        "ax.set_axisbelow(True)\n",
        "ax.grid(color='#b2d6c7', linewidth=1, axis='y', alpha=0.3)\n",
        "MA = mpatches.Patch(color='#2ee88e', label='Year with Maximum\\n no. of Road Accidents')\n",
        "MI = mpatches.Patch(color='#9a90e8', label='Year with Minimum\\n no. of Road Accidents')\n",
        "ax.legend(handles=[MA, MI], prop={'size': 10.5}, loc='best', borderpad=1, \n",
        "          labelcolor=['#2ee88e', '#9a90e8'], edgecolor='white');\n",
        "plt.show()"
      ],
      "metadata": {
        "_kg_hide-input": true,
        "execution": {
          "iopub.status.busy": "2021-11-11T16:09:30.413868Z",
          "iopub.execute_input": "2021-11-11T16:09:30.414081Z",
          "iopub.status.idle": "2021-11-11T16:09:30.722342Z",
          "shell.execute_reply.started": "2021-11-11T16:09:30.414055Z",
          "shell.execute_reply": "2021-11-11T16:09:30.721772Z"
        },
        "jupyter": {
          "source_hidden": true
        },
        "trusted": true,
        "id": "kxNKjJpJQe4B"
      },
      "execution_count": null,
      "outputs": []
    },
    {
      "cell_type": "markdown",
      "source": [
        "<p><img alt=\"Insight logo\" src=\"https://drive.google.com/uc?export=view&id=15uX4fnuDMuki2xAnjK8wv-ifJhAkBtJ2\" align=\"left\" hspace=\"10px\" vspace=\"0px\"></p>\n",
        "\n",
        "<ul style=\"list-style-type:none;\">\n",
        "  <li style=\"font-weight: bold;font-family:'Times New Roman';font-size:30px;font-style: italic;color:  #6468e8\">Insights:</li>\n",
        "</ul>\n",
        "\n",
        "<div class=\"alert alert-info\" role=\"alert\">\n",
        "<ul style=\"list-style-type:none;font-family:Yu Mincho Demibold;font-size:20px;color:  black\">\n",
        "<li>30. From the above figure, it is clear that in <span style=\"font-weight: bold; color:#122ecc\">last 5 years (2016-2020)</span> in US <span style=\"font-weight: bold; color:#122ecc\">accidents percentage</span> has <span style=\"font-weight: bold;color:#122ecc\">increased significantly</span>.</li>\n",
        "<br>\n",
        "<li>31. <span style=\"font-weight: bold; color:#122ecc\">70%</span> of the total road accident records of last 5 years happened only within <span style=\"font-weight: bold; color:#122ecc\">last 2 years (2019, 2020)</span>.</li>\n",
        "</ul>\n",
        "</div>"
      ],
      "metadata": {
        "id": "GgZ33MXpQe4B"
      }
    },
    {
      "cell_type": "code",
      "source": [
        "fig, ((ax1, ax2), (ax3, ax4), (ax5, ax6)) = plt.subplots(nrows=3, ncols=2, figsize=(15, 10))\n",
        "fig.suptitle('Accident Cases over the past 5 years in US', fontsize=20,fontweight =\"bold\", color='grey')\n",
        "count = 0\n",
        "years = ['2016', '2017', '2018', '2019', '2020']\n",
        "colors = ['#77fa5a', '#ffff4d', '#ffab36', '#ff894a', '#ff513b']\n",
        "for i in [ax1, ax2, ax3, ax4, ax5]:\n",
        "    i.set_xlim([-125,-65])\n",
        "    i.set_ylim([22,55])\n",
        "    states.boundary.plot(ax=i, color='black');\n",
        "    geo_df[geo_df['year']==int(years[count])].plot(ax=i, markersize=1, color=colors[count], marker='+', alpha=0.5)\n",
        "    for j in ['bottom', 'top', 'left', 'right']:\n",
        "        side = i.spines[j]\n",
        "        side.set_visible(False)\n",
        "    i.set_title(years[count] + '\\n({:,} Road Accident Cases)'.format(list(year_df.Cases)[count]), fontsize=12, color='grey', weight='bold')\n",
        "    i.axis('off')\n",
        "    count += 1\n",
        "    \n",
        "sns.lineplot(data = year_df, marker='o', x='Year', y='Cases', color = '#734dff', ax=ax6, label=\"Yearly Road Accidents\");\n",
        "\n",
        "for k in ['bottom', 'top', 'left', 'right']:\n",
        "        side = ax6.spines[k]\n",
        "        side.set_visible(False)\n",
        "ax6.xaxis.set_ticks(year_df.Year);\n",
        "ax6.legend(prop={'size': 12}, loc='best', edgecolor='white');"
      ],
      "metadata": {
        "_kg_hide-input": true,
        "execution": {
          "iopub.status.busy": "2021-11-11T16:09:30.723329Z",
          "iopub.execute_input": "2021-11-11T16:09:30.723805Z",
          "iopub.status.idle": "2021-11-11T16:12:13.355889Z",
          "shell.execute_reply.started": "2021-11-11T16:09:30.723773Z",
          "shell.execute_reply": "2021-11-11T16:12:13.354871Z"
        },
        "jupyter": {
          "source_hidden": true
        },
        "trusted": true,
        "id": "7R7rDaS3Qe4B"
      },
      "execution_count": null,
      "outputs": []
    },
    {
      "cell_type": "markdown",
      "source": [
        "<p><img alt=\"Insight logo\" src=\"https://drive.google.com/uc?export=view&id=1c2FCGk18oh6GbaTXAkYtvGsIC8rmsNXy\" align=\"left\" hspace=\"15px\" vspace=\"20px\" width=\"75\" height=\"80\" ></p>\n",
        "\n",
        "<ul style=\"list-style-type:none;\">\n",
        "  <li style=\"font-weight: bold;font-family:Yu Mincho Demibold;font-size:40px;font-style: italic;color:  #6468e8\">Year Analysis based on Severity</li>\n",
        "</ul>"
      ],
      "metadata": {
        "id": "nLkVQem0Qe4B"
      }
    },
    {
      "cell_type": "code",
      "source": [
        "accident_severity_df = geo_df.groupby(['year', 'Severity']).size().unstack()"
      ],
      "metadata": {
        "execution": {
          "iopub.status.busy": "2021-11-11T16:12:13.357108Z",
          "iopub.execute_input": "2021-11-11T16:12:13.357369Z",
          "iopub.status.idle": "2021-11-11T16:12:13.437374Z",
          "shell.execute_reply.started": "2021-11-11T16:12:13.357339Z",
          "shell.execute_reply": "2021-11-11T16:12:13.436712Z"
        },
        "trusted": true,
        "id": "8XzIpiPCQe4B"
      },
      "execution_count": null,
      "outputs": []
    },
    {
      "cell_type": "code",
      "source": [
        "ax = accident_severity_df.plot(kind='barh', stacked=True, figsize=(12, 6), \n",
        "                               color=['#fcfa5d', '#ffe066', '#fab666', '#f68f6a'],\n",
        "                               rot=0);\n",
        "\n",
        "ax.set_title('\\nSeverity and Corresponding Accident \\nPercentage for past 5 years in US\\n', fontsize=20, color='grey');\n",
        "\n",
        "for i in ['top', 'left', 'right']:\n",
        "    side = ax.spines[i]\n",
        "    side.set_visible(False)\n",
        "    \n",
        "ax.spines['bottom'].set_bounds(0, 800000);\n",
        "ax.set_ylabel('\\nYears\\n', fontsize=15, color='grey');\n",
        "ax.set_xlabel('\\nAccident Cases\\n', fontsize=15, color='grey');\n",
        "ax.legend(prop={'size': 12.5}, loc='best', fancybox = True, title=\"Severity\", title_fontsize=15, edgecolor='white');\n",
        "ax.tick_params(axis='both', which='major', labelsize=12.5)\n",
        "#ax.set_facecolor('#e6f2ed')\n",
        "    \n",
        "for p in ax.patches:\n",
        "    width, height = p.get_width(), p.get_height()\n",
        "    x, y = p.get_xy()\n",
        "    var = width*100/df.shape[0]\n",
        "    if var > 0:\n",
        "        if var > 4:\n",
        "            ax.text(x+width/2, \n",
        "                        y+height/2-0.05, \n",
        "                        '{:.2f}%'.format(width*100/df.shape[0]),\n",
        "                        fontsize=12,  color='black', alpha= 0.8)\n",
        "        elif var > 1.8 and var < 3.5:\n",
        "            ax.text(x+width/2-17000, \n",
        "                        y+height/2-0.05, \n",
        "                        '{:.2f}%'.format(width*100/df.shape[0]),\n",
        "                        fontsize=12,  color='black', alpha= 0.8)      \n",
        "        elif var>1.5 and var<1.8:\n",
        "            ax.text(x+width/2+7000, \n",
        "                    y+height/2-0.05, \n",
        "                    '  {:.2f}%'.format(width*100/df.shape[0]),\n",
        "                    fontsize=12,  color='black', alpha= 0.8)\n",
        "        elif var>1:\n",
        "            ax.text(x+width/2-20000, \n",
        "                    y+height/2-0.05, \n",
        "                    '  {:.2f}%'.format(width*100/df.shape[0]),\n",
        "                    fontsize=12,  color='black', alpha= 0.8)\n",
        "        else:\n",
        "            ax.text(x+width/2+10000, \n",
        "                    y+height/2-0.05, \n",
        "                    '  {:.2f}%'.format(width*100/df.shape[0]),\n",
        "                    fontsize=12,  color='black', alpha= 0.8)"
      ],
      "metadata": {
        "_kg_hide-input": true,
        "execution": {
          "iopub.status.busy": "2021-11-11T16:12:13.438498Z",
          "iopub.execute_input": "2021-11-11T16:12:13.438826Z",
          "iopub.status.idle": "2021-11-11T16:12:13.857216Z",
          "shell.execute_reply.started": "2021-11-11T16:12:13.438798Z",
          "shell.execute_reply": "2021-11-11T16:12:13.856298Z"
        },
        "jupyter": {
          "source_hidden": true
        },
        "trusted": true,
        "id": "rS411k_lQe4B"
      },
      "execution_count": null,
      "outputs": []
    },
    {
      "cell_type": "markdown",
      "source": [
        "<p><img alt=\"Insight logo\" src=\"https://drive.google.com/uc?export=view&id=15uX4fnuDMuki2xAnjK8wv-ifJhAkBtJ2\" align=\"left\" hspace=\"10px\" vspace=\"0px\"></p>\n",
        "\n",
        "<ul style=\"list-style-type:none;\">\n",
        "  <li style=\"font-weight: bold;font-family:'Times New Roman';font-size:30px;font-style: italic;color:  #6468e8\">Insights:</li>\n",
        "</ul>\n",
        "\n",
        "<div class=\"alert alert-info\" role=\"alert\">\n",
        "<ul style=\"list-style-type:none;font-family:Yu Mincho Demibold;font-size:20px;color:  black\">\n",
        "<li>32. In <span style=\"font-weight: bold; color:#122ecc\">last 4 years (2017-2020)</span>  <span style=\"font-weight: bold; color:#122ecc\">highly severe (Severity-4)</span> accident cases in us remain in the range of <span style=\"font-weight: bold;color:#122ecc\">1.55% to 1.8%</span>.</li>\n",
        "<br>\n",
        "<li>33. <span style=\"font-weight: bold; color:#122ecc\">45%</span> of the total road accidents of last 5 years which occurred only in <span style=\"font-weight: bold; color:#122ecc\">2020</span> are <span style=\"font-weight: bold; color:#122ecc\">moderately severe (Severity-2)</span>.</li>\n",
        "</ul>\n",
        "</div>"
      ],
      "metadata": {
        "id": "TSLeUfGEQe4C"
      }
    },
    {
      "cell_type": "code",
      "source": [
        "year_df['accident/day'] = round(year_df['Cases']/(5*365))\n",
        "year_df['accident/hour'] = round(year_df['Cases']/(5*365*24))"
      ],
      "metadata": {
        "execution": {
          "iopub.status.busy": "2021-11-11T16:12:13.858738Z",
          "iopub.execute_input": "2021-11-11T16:12:13.859062Z",
          "iopub.status.idle": "2021-11-11T16:12:13.866104Z",
          "shell.execute_reply.started": "2021-11-11T16:12:13.85902Z",
          "shell.execute_reply": "2021-11-11T16:12:13.865528Z"
        },
        "trusted": true,
        "id": "mC4sTX7hQe4C"
      },
      "execution_count": null,
      "outputs": []
    },
    {
      "cell_type": "code",
      "source": [
        "fig, (ax1, ax2) = plt.subplots(1, 2, figsize = (12.5,6), dpi = 80)\n",
        "\n",
        "count = 0\n",
        "plots = ['accident/day', 'accident/hour']\n",
        "plots_limit = [(-10, 500), (-0.5, 22.5)]\n",
        "plots_bound = [(0, 500), (0, 20)]\n",
        "plot_text = [60, 2.5]\n",
        "\n",
        "colors = [['#ffb74b', '#ffd6a4', '#ceb1f2', '#a071ff', '#6f71f7'], \n",
        "          ['#cd7cf2', '#f27ec8', '#fa70b3', '#ff5e86', '#ff1732']]\n",
        "\n",
        "for i in [ax1, ax2]:\n",
        "\n",
        "    sns.barplot(ax=i, y=year_df[plots[count]], x=year_df['Year'], palette=colors[count])\n",
        "    \n",
        "    var = plots[count].split('/')[-1].capitalize()\n",
        "    \n",
        "    for j in i.patches:\n",
        "        i.text(j.get_x()+0.06, j.get_height()-plot_text[count], \\\n",
        "                str(int(j.get_height()))+'\\nAccidents\\nPer {}'.format(var), fontsize=8.5, color='white', weight='bold')\n",
        "\n",
        "    i.axes.set_ylim(plots_limit[count])\n",
        "    i.axes.set_ylabel('\\nAccident Cases\\n', fontsize=12, color='grey')\n",
        "    i.axes.set_xlabel('\\nYears\\n', fontsize=12, color='grey')\n",
        "    i.tick_params(axis='both', which='major', labelsize=10)\n",
        "\n",
        "    i.set_title('\\nAverage Cases \\nof Accident/{} in US (2016-2020)\\n'.format(var), fontsize =15, color='grey')\n",
        "    i.spines['bottom'].set_bounds(0.005, 4)\n",
        "    i.spines['left'].set_bounds(plots_bound[count])\n",
        "\n",
        "    for k in ['top', 'right']:\n",
        "            side = i.spines[k]\n",
        "            side.set_visible(False)\n",
        "\n",
        "    i.set_axisbelow(True)\n",
        "    MA = mpatches.Patch(color=colors[count][-1], label='Year with Maximum\\n no. of Road Accidents')\n",
        "    MI = mpatches.Patch(color=colors[count][0], label='Year with Minimum\\n no. of Road Accidents')\n",
        "    i.legend(handles=[MA, MI], prop={'size': 10}, loc='best', borderpad=1, \n",
        "          labelcolor=[colors[count][-1], colors[count][0]], edgecolor='white');\n",
        "    count += 1"
      ],
      "metadata": {
        "_kg_hide-input": true,
        "execution": {
          "iopub.status.busy": "2021-11-11T16:12:13.867159Z",
          "iopub.execute_input": "2021-11-11T16:12:13.867566Z",
          "iopub.status.idle": "2021-11-11T16:12:14.418102Z",
          "shell.execute_reply.started": "2021-11-11T16:12:13.867518Z",
          "shell.execute_reply": "2021-11-11T16:12:14.417233Z"
        },
        "jupyter": {
          "source_hidden": true
        },
        "trusted": true,
        "id": "C9nAjqJ9Qe4C"
      },
      "execution_count": null,
      "outputs": []
    },
    {
      "cell_type": "markdown",
      "source": [
        "<p><img alt=\"Insight logo\" src=\"https://drive.google.com/uc?export=view&id=15uX4fnuDMuki2xAnjK8wv-ifJhAkBtJ2\" align=\"left\" hspace=\"10px\" vspace=\"0px\"></p>\n",
        "\n",
        "<ul style=\"list-style-type:none;\">\n",
        "  <li style=\"font-weight: bold;font-family:'Times New Roman';font-size:30px;font-style: italic;color:  #6468e8\">Insights:</li>\n",
        "</ul>\n",
        "\n",
        "<div class=\"alert alert-info\" role=\"alert\">\n",
        "<ul style=\"list-style-type:none;font-family:Yu Mincho Demibold;font-size:20px;color:  black\">\n",
        "<li>34. In the year <span style=\"font-weight: bold; color:#122ecc\">2020</span>, averagely <span style=\"font-weight: bold; color:#122ecc\">432 accidents</span> happened <span style=\"font-weight: bold; color:#122ecc\">per day</span> in US.</li>\n",
        "<br>\n",
        "<li>35. From <span style=\"font-weight: bold; color:#122ecc\">2019</span> to <span style=\"font-weight: bold; color:#122ecc\">2020</span> the <span style=\"font-weight: bold; color:#122ecc\">average accident/day</span> has <span style=\"font-weight: bold; color:#122ecc\">increased 3 times</span> in US.</li>\n",
        "<br>\n",
        "<li>36. Compare to <span style=\"font-weight: bold; color:#122ecc\">2016</span> the <span style=\"font-weight: bold; color:#122ecc\">accident/hour</span> has <span style=\"font-weight: bold; color:#122ecc\">increased 6 times</span> in <span style=\"font-weight: bold; color:#122ecc\">2020</span>.<li>\n",
        "<br>\n",
        "<li>37. In the year <span style=\"font-weight: bold; color:#122ecc\">2020</span>, averagely <span style=\"font-weight: bold; color:#122ecc\">18 accidents</span> happened <span style=\"font-weight: bold; color:#122ecc\">per hour</span> in US implies that <span style=\"font-weight: bold; color:#122ecc\">3 accidents in every 10 minutes</span>.</li>    \n",
        "</ul>\n",
        "</div>"
      ],
      "metadata": {
        "id": "97dfjnQhQe4C"
      }
    },
    {
      "cell_type": "markdown",
      "source": [
        "<p><img alt=\"Insight logo\" src=\"https://drive.google.com/uc?export=view&id=1wDgnslui9hD7EtyE3lJAKQHoJ2xkn0Gr\" align=\"left\" hspace=\"20px\" vspace=\"25px\" width=\"50\" height=\"60\" ></p>\n",
        "\n",
        "<ul style=\"list-style-type:none;\">\n",
        "  <li style=\"font-weight: bold;font-family:Yu Mincho Demibold;font-size:40px;font-style: italic;color:  #6468e8\">Month Analysis</li>\n",
        "</ul>"
      ],
      "metadata": {
        "id": "ehsA70qiQe4D"
      }
    },
    {
      "cell_type": "code",
      "source": [
        "month_df = pd.DataFrame(df.Start_Time.dt.month.value_counts()).reset_index().rename(columns={'index':'Month', 'Start_Time':'Cases'}).sort_values('Month')\n",
        "\n",
        "month_names = list(calendar.month_name)[1:]\n",
        "month_df.Month = month_names"
      ],
      "metadata": {
        "execution": {
          "iopub.status.busy": "2021-11-11T16:12:14.419213Z",
          "iopub.execute_input": "2021-11-11T16:12:14.419474Z",
          "iopub.status.idle": "2021-11-11T16:12:14.577501Z",
          "shell.execute_reply.started": "2021-11-11T16:12:14.419445Z",
          "shell.execute_reply": "2021-11-11T16:12:14.576648Z"
        },
        "trusted": true,
        "id": "RHwsmrolQe4D"
      },
      "execution_count": null,
      "outputs": []
    },
    {
      "cell_type": "code",
      "source": [
        "fig, ax = plt.subplots(figsize = (10,8), dpi = 80)\n",
        "\n",
        "cmap = cm.get_cmap('plasma', 12)   \n",
        "clrs = [matplotlib.colors.rgb2hex(cmap(i)) for i in range(cmap.N)]\n",
        "\n",
        "ax=sns.barplot(x=month_df['Cases'], y=month_df['Month'], palette='plasma')\n",
        "\n",
        "total = df.shape[0]\n",
        "for p in ax.patches:\n",
        "    plt.text(p.get_width()-17000, p.get_y()+0.4,\n",
        "            '{:.2f}%'.format(p.get_width()*100/total),ha='center', va='center', fontsize=15, color='white', weight='bold')\n",
        "\n",
        "plt.title('\\nRoad Accident Percentage \\nfor different months in US (2016-2020)\\n', size=20, color='grey')\n",
        "plt.xlabel('\\nAccident Cases\\n', fontsize=15, color='grey')\n",
        "plt.ylabel('\\nMonths\\n', fontsize=15, color='grey')\n",
        "plt.xticks(fontsize=13)\n",
        "plt.yticks(fontsize=12)\n",
        "plt.xlim(0, 300000)\n",
        "\n",
        "for i in ['top', 'left', 'right']:\n",
        "    side = ax.spines[i]\n",
        "    side.set_visible(False)\n",
        "\n",
        "ax.set_axisbelow(True)\n",
        "ax.spines['bottom'].set_bounds(0, 300000)\n",
        "ax.grid(color='#b2d6c7', linewidth=1, axis='y', alpha=.3)\n",
        "\n",
        "MA = mpatches.Patch(color=clrs[0], label='Month with Maximum\\n no. of Road Accidents')\n",
        "MI = mpatches.Patch(color=clrs[-1], label='Month with Minimum\\n no. of Road Accidents')\n",
        "\n",
        "ax.legend(handles=[MA, MI], prop={'size': 10.5}, loc='best', borderpad=1, \n",
        "          labelcolor=[clrs[0], 'grey'], edgecolor='white');"
      ],
      "metadata": {
        "_kg_hide-input": true,
        "execution": {
          "iopub.status.busy": "2021-11-11T16:12:14.578817Z",
          "iopub.execute_input": "2021-11-11T16:12:14.579219Z",
          "iopub.status.idle": "2021-11-11T16:12:15.029901Z",
          "shell.execute_reply.started": "2021-11-11T16:12:14.579176Z",
          "shell.execute_reply": "2021-11-11T16:12:15.029331Z"
        },
        "jupyter": {
          "source_hidden": true
        },
        "trusted": true,
        "id": "in4fbp5WQe4D"
      },
      "execution_count": null,
      "outputs": []
    },
    {
      "cell_type": "markdown",
      "source": [
        "<p><img alt=\"Insight logo\" src=\"https://drive.google.com/uc?export=view&id=15uX4fnuDMuki2xAnjK8wv-ifJhAkBtJ2\" align=\"left\" hspace=\"10px\" vspace=\"0px\"></p>\n",
        "\n",
        "<ul style=\"list-style-type:none;\">\n",
        "  <li style=\"font-weight: bold;font-family:'Times New Roman';font-size:30px;font-style: italic;color:  #6468e8\">Insights:</li>\n",
        "</ul>\n",
        "\n",
        "<div class=\"alert alert-info\" role=\"alert\">\n",
        "<ul style=\"list-style-type:none;font-family:Yu Mincho Demibold;font-size:20px;color:  black\">   \n",
        "<li>38. Around <span style=\"font-weight: bold; color:#122ecc\">18%</span> of the road accidents occurred in the month of <span style=\"font-weight: bold; color:#122ecc\">December</span>.</li>\n",
        "<br>\n",
        "<li>39. <span style=\"font-weight: bold; color:#122ecc\">July</span> is month with <span style=\"font-weight: bold; color:#122ecc\">least (3.54%)</span> no. of road accidents in US.</li>\n",
        "<br>\n",
        "<li>40. <span style=\"font-weight: bold; color:#122ecc\">45%</span> of the road accidents occurred only within the <span style=\"font-weight: bold; color:#122ecc\">3 months, October to December</span> <span style=\"font-weight: bold; color:#122ecc\">(i.e., transition period from Autumn to Winter)</span>.</li> \n",
        "</ul>\n",
        "</div>"
      ],
      "metadata": {
        "id": "Lv387WH9Qe4D"
      }
    },
    {
      "cell_type": "markdown",
      "source": [
        "<p><img alt=\"Insight logo\" src=\"https://drive.google.com/uc?export=view&id=1-HtYX31dHesDTI-EUn6c1RZOXRnttGJj\" align=\"left\" hspace=\"20px\" vspace=\"23px\" width=\"45\" height=\"60\" ></p>\n",
        "\n",
        "<ul style=\"list-style-type:none;\">\n",
        "  <li style=\"font-weight: bold;font-family:Yu Mincho Demibold;font-size:40px;font-style: italic;color:  #6468e8\">Day Analysis</li>\n",
        "</ul>"
      ],
      "metadata": {
        "id": "2_T-V0QkQe4D"
      }
    },
    {
      "cell_type": "code",
      "source": [
        "day_df = pd.DataFrame(df.Start_Time.dt.day_name().value_counts()).reset_index().rename(columns={'index':'Day', 'Start_Time':'Cases'})"
      ],
      "metadata": {
        "execution": {
          "iopub.status.busy": "2021-11-11T16:12:15.030981Z",
          "iopub.execute_input": "2021-11-11T16:12:15.031463Z",
          "iopub.status.idle": "2021-11-11T16:12:15.884912Z",
          "shell.execute_reply.started": "2021-11-11T16:12:15.031429Z",
          "shell.execute_reply": "2021-11-11T16:12:15.884016Z"
        },
        "trusted": true,
        "id": "IZGyKb5_Qe4D"
      },
      "execution_count": null,
      "outputs": []
    },
    {
      "cell_type": "code",
      "source": [
        "fig, ax = plt.subplots(figsize = (12,6), dpi = 80)\n",
        "\n",
        "ax=sns.barplot(y=day_df['Cases'], x=day_df['Day'], palette=['#D50000', '#FF1744', '#FF5252', '#ff7530', '#ffa245', '#50fa9d', '#7eedb0'])\n",
        "\n",
        "total = df.shape[0]\n",
        "for i in ax.patches:\n",
        "    ax.text(i.get_x()+0.1, i.get_height()-20000, \\\n",
        "            str(round((i.get_height()/total)*100, 2))+'%', fontsize=15,weight='bold',\n",
        "                color='white')\n",
        "\n",
        "plt.ylim(-10000, 300000)\n",
        "plt.title('\\nRoad Accident Percentage \\nfor different days over the week\\n', size=20, color='grey')\n",
        "plt.ylabel('\\nAccident Cases\\n', fontsize=15, color='grey')\n",
        "plt.xlabel('\\nDay of the Week\\n', fontsize=15, color='grey')\n",
        "plt.xticks(fontsize=13)\n",
        "plt.yticks(fontsize=12)\n",
        "\n",
        "for i in ['top', 'right']:\n",
        "    side = ax.spines[i]\n",
        "    side.set_visible(False)\n",
        "    \n",
        "ax.set_axisbelow(True)\n",
        "ax.spines['bottom'].set_bounds(0.005, 6)\n",
        "ax.spines['left'].set_bounds(0, 300000)\n",
        "\n",
        "MA = mpatches.Patch(color='#D50000', label='Day with Maximum\\n no. of Road Accidents')\n",
        "MI = mpatches.Patch(color='#7eedb0', label='Day with Minimum\\n no. of Road Accidents')\n",
        "\n",
        "ax.legend(handles=[MA, MI], prop={'size': 10.5}, loc='best', borderpad=1, edgecolor='white', labelcolor=['#D50000', '#7eedb0']);"
      ],
      "metadata": {
        "_kg_hide-input": true,
        "execution": {
          "iopub.status.busy": "2021-11-11T16:12:15.886291Z",
          "iopub.execute_input": "2021-11-11T16:12:15.886611Z",
          "iopub.status.idle": "2021-11-11T16:12:16.254642Z",
          "shell.execute_reply.started": "2021-11-11T16:12:15.886561Z",
          "shell.execute_reply": "2021-11-11T16:12:16.253786Z"
        },
        "jupyter": {
          "source_hidden": true
        },
        "trusted": true,
        "id": "iIWVl9ZoQe4E"
      },
      "execution_count": null,
      "outputs": []
    },
    {
      "cell_type": "markdown",
      "source": [
        "<p><img alt=\"Insight logo\" src=\"https://drive.google.com/uc?export=view&id=15uX4fnuDMuki2xAnjK8wv-ifJhAkBtJ2\" align=\"left\" hspace=\"10px\" vspace=\"0px\"></p>\n",
        "\n",
        "<ul style=\"list-style-type:none;\">\n",
        "  <li style=\"font-weight: bold;font-family:'Times New Roman';font-size:30px;font-style: italic;color:  #6468e8\">Insights:</li>\n",
        "</ul>\n",
        "\n",
        "<div class=\"alert alert-info\" role=\"alert\">\n",
        "<ul style=\"list-style-type:none;font-family:Yu Mincho Demibold;font-size:20px;color:  black\">\n",
        "<li>41. <span style=\"font-weight: bold; color:#122ecc\">Working Days</span> of the week have almost <span style=\"font-weight: bold; color:#122ecc\">2 times higher</span> accident percentage, compared with the <span style=\"font-weight: bold; color:#122ecc\">Weekend Days</span> which is as our expectation.</li>\n",
        "<br>\n",
        "<li>42. Only around <span style=\"font-weight: bold; color:#122ecc\">17%</span> road accident records occurred in <span style=\"font-weight: bold; color:#122ecc\">weekend</span>.</li>\n",
        "<br>\n",
        "<li>43. <span style=\"font-weight: bold; color:#122ecc\">Thursday</span> of a week is having the <span style=\"font-weight: bold; color:#122ecc\">highest</span> percentage of road accidents.</li>\n",
        "<br>\n",
        "<li>44. On <span style=\"font-weight: bold; color:#122ecc\">Sunday</span> the percentage of road accidents in US is <span style=\"font-weight: bold; color:#122ecc\">lowest</span>.</li>\n",
        "</ul>\n",
        "</div>"
      ],
      "metadata": {
        "id": "LYjmzT4DQe4E"
      }
    },
    {
      "cell_type": "markdown",
      "source": [
        "<p><img alt=\"Insight logo\" src=\"https://drive.google.com/uc?export=view&id=1_p2o0LqHvjWOA3L79S74VGaekbXVI0Ym\" align=\"left\" hspace=\"20px\" vspace=\"25px\" width=\"45\" height=\"60\" ></p>\n",
        "\n",
        "<ul style=\"list-style-type:none;\">\n",
        "  <li style=\"font-weight: bold;font-family:Yu Mincho Demibold;font-size:40px;font-style: italic;color:  #6468e8\">Hour Analysis</li>\n",
        "</ul>"
      ],
      "metadata": {
        "id": "QIWoPo8RQe4E"
      }
    },
    {
      "cell_type": "code",
      "source": [
        "hour_df = pd.DataFrame(df.Start_Time.dt.hour.value_counts()).reset_index().rename(columns={'index':'Hours', 'Start_Time':'Cases'}).sort_values('Hours')"
      ],
      "metadata": {
        "execution": {
          "iopub.status.busy": "2021-11-11T16:12:16.255891Z",
          "iopub.execute_input": "2021-11-11T16:12:16.256125Z",
          "iopub.status.idle": "2021-11-11T16:12:16.413603Z",
          "shell.execute_reply.started": "2021-11-11T16:12:16.256096Z",
          "shell.execute_reply": "2021-11-11T16:12:16.412739Z"
        },
        "trusted": true,
        "id": "OcV_VI2bQe4E"
      },
      "execution_count": null,
      "outputs": []
    },
    {
      "cell_type": "code",
      "source": [
        "fig, ax = plt.subplots(figsize = (12,6), dpi = 80)\n",
        "\n",
        "clrs = []\n",
        "for x in hour_df['Cases']:\n",
        "    if int(hour_df[hour_df['Cases']==x]['Hours']) <= 11:\n",
        "        if (x == max(list(hour_df['Cases'])[:12])):\n",
        "            clrs.append('grey')\n",
        "        else:\n",
        "            clrs.append('#05ffda')\n",
        "    else:\n",
        "        if (x == max(list(hour_df['Cases'])[12:])):\n",
        "            clrs.append('grey')\n",
        "        else:\n",
        "            clrs.append('#2426b3')\n",
        "ax=sns.barplot(y=hour_df['Cases'], x=hour_df['Hours'], palette=clrs)\n",
        "ax1 = ax.twinx()\n",
        "\n",
        "sns.lineplot(data = hour_df, marker='o', x='Hours', y='Cases', color = 'white', alpha = 1)\n",
        "\n",
        "total = df.shape[0]\n",
        "for i in ax.patches:\n",
        "    ax.text(i.get_x(), i.get_height()+1000, \\\n",
        "            str(round((i.get_height()/total)*100, 2))+'%', fontsize=10,\n",
        "                color='black')\n",
        "\n",
        "plt.ylim(1000, 150000)\n",
        "plt.title('\\nRoad Accident Percentage \\nfor different hours along the day\\n', size=20, color='grey')\n",
        "\n",
        "ax1.axes.yaxis.set_visible(False)\n",
        "ax.set_xlabel('\\nHours\\n', fontsize=15, color='grey')\n",
        "ax.set_ylabel('\\nAccident Cases\\n', fontsize=15, color='grey')\n",
        "\n",
        "for i in ['bottom', 'top', 'left', 'right']:\n",
        "    ax.spines[i].set_color('white')\n",
        "    ax.spines[i].set_linewidth(1.5)\n",
        "    ax1.spines[i].set_color('white')\n",
        "    ax1.spines[i].set_linewidth(1.5)\n",
        "    \n",
        "ax.set_axisbelow(True)\n",
        "ax.grid(color='#b2d6c7', linewidth=1, alpha=.3)\n",
        "ax.tick_params(axis='both', which='major', labelsize=12)\n",
        "\n",
        "MA = mpatches.Patch(color='grey', label='Hour with Maximum\\n no. of Road Accidents')\n",
        "MO = mpatches.Patch(color='#05ffda', label='Monrning Hours')\n",
        "NI = mpatches.Patch(color='#2426b3', label='Night Hours')\n",
        "\n",
        "ax.legend(handles=[MA, MO, NI], prop={'size': 10.5}, loc='upper left', borderpad=1, edgecolor='white');"
      ],
      "metadata": {
        "_kg_hide-input": true,
        "execution": {
          "iopub.status.busy": "2021-11-11T16:12:16.414926Z",
          "iopub.execute_input": "2021-11-11T16:12:16.415169Z",
          "iopub.status.idle": "2021-11-11T16:12:17.203824Z",
          "shell.execute_reply.started": "2021-11-11T16:12:16.415139Z",
          "shell.execute_reply": "2021-11-11T16:12:17.203251Z"
        },
        "jupyter": {
          "source_hidden": true
        },
        "trusted": true,
        "id": "_FjFJSKnQe4E"
      },
      "execution_count": null,
      "outputs": []
    },
    {
      "cell_type": "markdown",
      "source": [
        "<p><img alt=\"Insight logo\" src=\"https://drive.google.com/uc?export=view&id=15uX4fnuDMuki2xAnjK8wv-ifJhAkBtJ2\" align=\"left\" hspace=\"10px\" vspace=\"0px\"></p>\n",
        "\n",
        "<ul style=\"list-style-type:none;\">\n",
        "  <li style=\"font-weight: bold;font-family:'Times New Roman';font-size:30px;font-style: italic;color:  #6468e8\">Insights:</li>\n",
        "</ul>\n",
        "\n",
        "<div class=\"alert alert-info\" role=\"alert\">\n",
        "<ul style=\"list-style-type:none;font-family:Yu Mincho Demibold;font-size:20px;color:  black\">  \n",
        "<li>45. Around <span style=\"font-weight: bold; color:#122ecc\">18%</span> of the road accidents occurred in between <span style=\"font-weight: bold; color:#122ecc\">6:00AM</span> to <span style=\"font-weight: bold; color:#122ecc\">9:00AM</span>.</li>\n",
        "<br>\n",
        "<li>46. In evening, around <span style=\"font-weight: bold; color:#122ecc\">27%</span> of the road accidents occurred in between <span style=\"font-weight: bold; color:#122ecc\">3:00PM</span> to <span style=\"font-weight: bold; color:#122ecc\">6:00PM</span>.</li>\n",
        "<br>\n",
        "<li>47. The <span style=\"font-weight: bold; color:#122ecc\">most-deadliest accident hour</span> is <span style=\"font-weight: bold; color:#122ecc\">5:00PM</span> implies the <span style=\"font-weight: bold; color:#122ecc\">Evening Office-Returning Hours</span>.</li>\n",
        "<br>\n",
        "<li>48. The <span style=\"font-weight: bold; color:#122ecc\">2nd most-deadliest accident hour</span> is <span style=\"font-weight: bold; color:#122ecc\">8:00AM</span> implies the <span style=\"font-weight: bold; color:#122ecc\">Morning Office-Going Hours</span>.</li>   \n",
        "</ul>\n",
        "</div>"
      ],
      "metadata": {
        "id": "boKHyN_uQe4F"
      }
    },
    {
      "cell_type": "markdown",
      "source": [
        "<p><img alt=\"Insight logo\" src=\"https://drive.google.com/uc?export=view&id=1PKxlMSZjyJcv1X8PIJ8CLUQb9nl_gxdH\" align=\"left\" hspace=\"5px\" vspace=\"7px\" width=\"70\" height=\"80\" ></p>\n",
        "\n",
        "<ul style=\"list-style-type:none;\">\n",
        "  <li style=\"font-weight: bold;font-family:Yu Mincho Demibold;font-size:40px;font-style: italic;color:  #6468e8\">Road Condition Analysis</li>\n",
        "</ul>"
      ],
      "metadata": {
        "id": "g5FJhTXUQe4F"
      }
    },
    {
      "cell_type": "code",
      "source": [
        "fig, ((ax1, ax2), (ax3, ax4), (ax5, ax6), (ax7, ax8)) = plt.subplots(nrows=4, ncols=2, figsize = (16,20))\n",
        "\n",
        "road_conditions = ['Bump', 'Crossing', 'Give_Way', 'Junction', 'Stop', 'No_Exit', 'Traffic_Signal', 'Turning_Loop']\n",
        "colors = [('#6662b3', '#00FF00'), ('#7881ff', '#0e1ce8'), ('#18f2c7', '#09ad8c'), ('#08ff83', '#02a352'), ('#ffcf87', '#f5ab3d'),\n",
        "         ('#f5f53d', '#949410'), ('#ff9187', '#ffc7c2'), ('tomato', '#008000')]    \n",
        "count = 0\n",
        "\n",
        "def func(pct, allvals):\n",
        "    absolute = int(round(pct/100*np.sum(allvals), 2))\n",
        "    return \"{:.2f}%\\n({:,d} Cases)\".format(pct, absolute)    \n",
        "\n",
        "for i in [ax1, ax2, ax3, ax4, ax5, ax6, ax7, ax8]:\n",
        "    \n",
        "    size = list(df[road_conditions[count]].value_counts())\n",
        "    if len(size) != 2:\n",
        "        size.append(0)\n",
        "    \n",
        "    labels = ['False', 'True']\n",
        "    \n",
        "    \n",
        "    \n",
        "    i.pie(size, labels = labels, colors = colors[count],\n",
        "                    autopct = lambda pct: func(pct, size), labeldistance=1.1,\n",
        "                    textprops={'fontsize': 12}, explode=[0, 0.2])\n",
        "\n",
        "    title = '\\nPresence of {}'.format(road_conditions[count])\n",
        "\n",
        "    i.set_title(title, fontsize = 18, color='grey')\n",
        "    \n",
        "    count += 1\n",
        "        \n",
        "   "
      ],
      "metadata": {
        "_kg_hide-input": true,
        "execution": {
          "iopub.status.busy": "2021-11-11T16:12:17.204917Z",
          "iopub.execute_input": "2021-11-11T16:12:17.205449Z",
          "iopub.status.idle": "2021-11-11T16:12:18.021904Z",
          "shell.execute_reply.started": "2021-11-11T16:12:17.205417Z",
          "shell.execute_reply": "2021-11-11T16:12:18.021283Z"
        },
        "jupyter": {
          "source_hidden": true
        },
        "trusted": true,
        "id": "DVcCsn-YQe4F"
      },
      "execution_count": null,
      "outputs": []
    },
    {
      "cell_type": "markdown",
      "source": [
        "<p><img alt=\"Insight logo\" src=\"https://drive.google.com/uc?export=view&id=15uX4fnuDMuki2xAnjK8wv-ifJhAkBtJ2\" align=\"left\" hspace=\"10px\" vspace=\"0px\"></p>\n",
        "\n",
        "<ul style=\"list-style-type:none;\">\n",
        "  <li style=\"font-weight: bold;font-family:'Times New Roman';font-size:30px;font-style: italic;color:  #6468e8\">Insights:</li>\n",
        "</ul>\n",
        "\n",
        "<div class=\"alert alert-info\" role=\"alert\">\n",
        "<ul style=\"list-style-type:none;font-family:Yu Mincho Demibold;font-size:20px;color:  black\">\n",
        "<li>49. Almost in every case (99.98%) <span style=\"font-weight: bold; color:#122ecc\">Bumper was absent</span> in the accident spot.</li>\n",
        "<br>\n",
        "<li>50. In <span style=\"font-weight: bold; color:#122ecc\">5.7%</span> cases, road accidents happened <span style=\"font-weight: bold; color:#122ecc\">near the crossing</span>.</li>\n",
        "<br>\n",
        "<li>51. In <span style=\"font-weight: bold; color:#122ecc\">98.83%</span> cases, there were <span style=\"font-weight: bold; color:#122ecc\">no Stop</span> near the accident area.</li>\n",
        "<br>\n",
        "<li>52. <span style=\"font-weight: bold; color:#122ecc\">13.49%</span> road accident cases recorded <span style=\"font-weight: bold; color:#122ecc\">near the junctions</span>.</li>\n",
        "<br>\n",
        "<li>53. There are no accident cases recorded near the <span style=\"font-weight: bold; color:#122ecc\">Turning Loop</span>.</li>\n",
        "<br>\n",
        "<li>54. <span style=\"font-weight: bold; color:#122ecc\">11.21%</span> road accident cases recorded <span style=\"font-weight: bold; color:#122ecc\">near the traffic signal</span>.</li>\n",
        "</ul>\n",
        "</div>"
      ],
      "metadata": {
        "id": "qBG_vfkNQe4F"
      }
    },
    {
      "cell_type": "markdown",
      "source": [
        "<p><img alt=\"Insight logo\" src=\"https://drive.google.com/uc?export=view&id=1lPC6VjDxg32gFO0xiglDRA1K_nrdeSTZ\" align=\"left\" hspace=\"15px\" vspace=\"20px\" width=\"50\" height=\"60\" ></p>\n",
        "\n",
        "<ul style=\"list-style-type:none;\">\n",
        "  <li style=\"font-weight: bold;font-family:Yu Mincho Demibold;font-size:40px;font-style: italic;color:  #6468e8\">Weather Analysis</li>\n",
        "</ul>"
      ],
      "metadata": {
        "id": "mF3gm-drQe4F"
      }
    },
    {
      "cell_type": "markdown",
      "source": [
        "<ul style=\"list-style-type:none; text-align: center;\">\n",
        "    <li style=\"font-family:Microsoft JhengHei UI Light;font-size:20px;color: #6468e8\">We've created a custom function. To See the Code, Click On Show <b>hidden code</b></li>\n",
        "</ul>"
      ],
      "metadata": {
        "id": "2zJcBaA_Qe4F"
      }
    },
    {
      "cell_type": "code",
      "source": [
        "def generate_intervals_labels(attribute, split, gap):\n",
        "    var_min = min(df[attribute])\n",
        "    intervals = [int(var_min)]\n",
        "    labels = []\n",
        "    for i in range(1, split+1):\n",
        "        \n",
        "        lower_limit = int(var_min+((i-1)*gap))\n",
        "        \n",
        "        if i==split:\n",
        "            upper_limit = int(max(df[attribute]))\n",
        "        else:\n",
        "            upper_limit = int(var_min + (i*gap))\n",
        "            \n",
        "        #intervals\n",
        "        intervals.append(upper_limit)\n",
        "        \n",
        "        # labels\n",
        "        label_var = '({} to {})'.format(lower_limit, upper_limit)\n",
        "        labels.append(label_var)    \n",
        "    \n",
        "    return intervals, labels"
      ],
      "metadata": {
        "_kg_hide-input": true,
        "execution": {
          "iopub.status.busy": "2021-11-11T16:12:18.022943Z",
          "iopub.execute_input": "2021-11-11T16:12:18.023498Z",
          "iopub.status.idle": "2021-11-11T16:12:18.030304Z",
          "shell.execute_reply.started": "2021-11-11T16:12:18.023453Z",
          "shell.execute_reply": "2021-11-11T16:12:18.029658Z"
        },
        "jupyter": {
          "source_hidden": true
        },
        "trusted": true,
        "id": "5oWdlIeAQe4G"
      },
      "execution_count": null,
      "outputs": []
    },
    {
      "cell_type": "code",
      "source": [
        "def Feature_Bin_Plot(dataframe, attribute, clrs, intervals, labels, fig_size, font_size, y_lim, adjust, title):\n",
        "    \n",
        "    new_df = dataframe.copy()\n",
        "    xlabel = 'Different {} Grouped Value'.format(attribute)\n",
        "    new_df[xlabel] = pd.cut(x = new_df[attribute], bins = intervals, labels = labels, include_lowest=True)\n",
        "    temp_df = pd.DataFrame(new_df[xlabel].value_counts()).reset_index().rename(columns={'index':'Bins', xlabel:'Cases'}).sort_values('Bins')\n",
        "    \n",
        "    count,max_index = 0, 0\n",
        "    cases_list = list(temp_df['Cases'])\n",
        "    for i in cases_list:\n",
        "        if i == max(temp_df['Cases']):\n",
        "            max_index = count\n",
        "            break\n",
        "        count += 1\n",
        "                                                                                               \n",
        "    total = len(new_df[xlabel])\n",
        "    plt.figure(figsize=fig_size)\n",
        "    \n",
        "#     clrs = ['mediumspringgreen' if (x < max(temp_df['Cases'])) else 'grey' for x in temp_df['Cases']]\n",
        "    cmap = cm.get_cmap(clrs, len(intervals))   \n",
        "    clrs = [matplotlib.colors.rgb2hex(cmap(i)) for i in range(cmap.N)]\n",
        "    \n",
        "    ax=sns.barplot(y=temp_df['Cases'], x=temp_df['Bins'], palette=clrs);\n",
        "    \n",
        "    for i in ax.patches:\n",
        "        ax.text(i.get_x()+adjust[0], i.get_height()+adjust[-1], \\\n",
        "            '{:,d}\\nCases\\n({}%) '.format(int(i.get_height()), round(100*i.get_height()/total, 2)), fontsize=font_size,\n",
        "                color='black')\n",
        "        \n",
        "    plt.title(title, size=20, color='grey')\n",
        "    plt.ylim(y_lim)\n",
        "    \n",
        "    for i in ['bottom', 'top', 'left', 'right']:\n",
        "        ax.spines[i].set_color('white')\n",
        "        ax.spines[i].set_linewidth(1.5)\n",
        "        \n",
        "    ax.set_xlabel('\\n{}\\n'.format(xlabel), fontsize=15, color='grey')\n",
        "    ax.set_ylabel('\\nAccident Cases\\n', fontsize=15, color='grey')\n",
        "    \n",
        "    ax.set_axisbelow(True)\n",
        "    ax.grid(color='#b2d6c7', linewidth=1, alpha=.3)\n",
        "    ax.tick_params(axis='both', which='major', labelsize=12)\n",
        "    MA = mpatches.Patch(color=clrs[max_index], label='{} Range with Maximum\\n no. of Road Accidents'.format(attribute))\n",
        "    ax.legend(handles=[MA], prop={'size': 10.5}, loc='best', borderpad=1, \n",
        "              labelcolor=[clrs[max_index]], edgecolor='white');"
      ],
      "metadata": {
        "_kg_hide-input": true,
        "execution": {
          "iopub.status.busy": "2021-11-11T16:12:18.031187Z",
          "iopub.execute_input": "2021-11-11T16:12:18.031708Z",
          "iopub.status.idle": "2021-11-11T16:12:18.049114Z",
          "shell.execute_reply.started": "2021-11-11T16:12:18.031676Z",
          "shell.execute_reply": "2021-11-11T16:12:18.048242Z"
        },
        "jupyter": {
          "source_hidden": true
        },
        "trusted": true,
        "id": "5bs5s3v7Qe4G"
      },
      "execution_count": null,
      "outputs": []
    },
    {
      "cell_type": "code",
      "source": [
        "temp_intervals, temp_labels = generate_intervals_labels('Temperature(F)', 9, 30)\n",
        "\n",
        "Feature_Bin_Plot(df, 'Temperature(F)', 'gist_ncar',temp_intervals, temp_labels, \n",
        "                 (12, 6), 14, (-20000, 800000), [0.01, 10000], '\\nPercentage of different Temperature range\\n')"
      ],
      "metadata": {
        "execution": {
          "iopub.status.busy": "2021-11-11T16:12:18.050131Z",
          "iopub.execute_input": "2021-11-11T16:12:18.050843Z",
          "iopub.status.idle": "2021-11-11T16:12:19.491382Z",
          "shell.execute_reply.started": "2021-11-11T16:12:18.050803Z",
          "shell.execute_reply": "2021-11-11T16:12:19.490466Z"
        },
        "trusted": true,
        "id": "xnWsOgmyQe4G"
      },
      "execution_count": null,
      "outputs": []
    },
    {
      "cell_type": "markdown",
      "source": [
        "\n",
        "<p><img alt=\"Insight logo\" src=\"https://drive.google.com/uc?export=view&id=15uX4fnuDMuki2xAnjK8wv-ifJhAkBtJ2\" align=\"left\" hspace=\"10px\" vspace=\"0px\"></p>\n",
        "\n",
        "<ul style=\"list-style-type:none;\">\n",
        "  <li style=\"font-weight: bold;font-family:'Times New Roman';font-size:30px;font-style: italic;color:  #6468e8\">Insight:</li>\n",
        "</ul>\n",
        "\n",
        "<div class=\"alert alert-info\" role=\"alert\">\n",
        "<ul style=\"list-style-type:none;font-family:Yu Mincho Demibold;font-size:20px;color:  black\">\n",
        "<li>55. In the <span style=\"font-weight: bold; color:#122ecc\">temperature</span> range of <span style=\"font-weight: bold; color:#122ecc\">61(F) - 91(F)</span>, <span style=\"font-weight: bold; color:#122ecc\">45%</span> of the road accidents occurred.</li>\n",
        "</ul>\n",
        "</div>"
      ],
      "metadata": {
        "id": "EBVULuDzQe4G"
      }
    },
    {
      "cell_type": "code",
      "source": [
        "Humidity_intervals, Humidity_labels = generate_intervals_labels('Humidity(%)', 10, 10)\n",
        "\n",
        "Feature_Bin_Plot(df, 'Humidity(%)', 'magma', Humidity_intervals, Humidity_labels, \n",
        "                 (12, 6), 14, (-20000, 500000), [0.01, 10000], '\\nPercentage of different Humidity range\\n')"
      ],
      "metadata": {
        "execution": {
          "iopub.status.busy": "2021-11-11T16:12:19.492998Z",
          "iopub.execute_input": "2021-11-11T16:12:19.493325Z",
          "iopub.status.idle": "2021-11-11T16:12:20.940185Z",
          "shell.execute_reply.started": "2021-11-11T16:12:19.493256Z",
          "shell.execute_reply": "2021-11-11T16:12:20.939386Z"
        },
        "trusted": true,
        "id": "Vz08T-wJQe4G"
      },
      "execution_count": null,
      "outputs": []
    },
    {
      "cell_type": "markdown",
      "source": [
        "<p><img alt=\"Insight logo\" src=\"https://drive.google.com/uc?export=view&id=15uX4fnuDMuki2xAnjK8wv-ifJhAkBtJ2\" align=\"left\" hspace=\"10px\" vspace=\"0px\"></p>\n",
        "\n",
        "<ul style=\"list-style-type:none;\">\n",
        "  <li style=\"font-weight: bold;font-family:'Times New Roman';font-size:30px;font-style: italic;color:  #6468e8\">Insight:</li>\n",
        "</ul>\n",
        "\n",
        "<div class=\"alert alert-info\" role=\"alert\">\n",
        "<ul style=\"list-style-type:none;font-family:Yu Mincho Demibold;font-size:20px;color:  black\">\n",
        "<li>56. In <span style=\"font-weight: bold; color:#122ecc\">maximum cases (15.74%)</span> of road accident, the <span style=\"font-weight: bold; color:#122ecc\">humidity</span> range is between <span style=\"font-weight: bold; color:#122ecc\">81% - 91%</span>.</li>   \n",
        "</ul>\n",
        "</div>"
      ],
      "metadata": {
        "id": "0Ynr-x3pQe4H"
      }
    },
    {
      "cell_type": "code",
      "source": [
        "Pressure_intervals, Pressure_labels = generate_intervals_labels('Pressure(in)', 6, 10)\n",
        "\n",
        "Feature_Bin_Plot(df, 'Pressure(in)', 'Paired', Pressure_intervals, Pressure_labels, \n",
        "                 (12, 6), 14, (-20000, 1500000), [0.01, 10000], '\\nPercentage of different Pressure range\\n')"
      ],
      "metadata": {
        "execution": {
          "iopub.status.busy": "2021-11-11T16:12:20.941665Z",
          "iopub.execute_input": "2021-11-11T16:12:20.942162Z",
          "iopub.status.idle": "2021-11-11T16:12:22.311627Z",
          "shell.execute_reply.started": "2021-11-11T16:12:20.942118Z",
          "shell.execute_reply": "2021-11-11T16:12:22.311005Z"
        },
        "trusted": true,
        "id": "70OZ-ToyQe4H"
      },
      "execution_count": null,
      "outputs": []
    },
    {
      "cell_type": "markdown",
      "source": [
        "<p><img alt=\"Insight logo\" src=\"https://drive.google.com/uc?export=view&id=15uX4fnuDMuki2xAnjK8wv-ifJhAkBtJ2\" align=\"left\" hspace=\"10px\" vspace=\"0px\"></p>\n",
        "\n",
        "<ul style=\"list-style-type:none;\">\n",
        "  <li style=\"font-weight: bold;font-family:'Times New Roman';font-size:30px;font-style: italic;color:  #6468e8\">Insight:</li>\n",
        "</ul>\n",
        "\n",
        "<div class=\"alert alert-info\" role=\"alert\">\n",
        "<ul style=\"list-style-type:none;font-family:Yu Mincho Demibold;font-size:20px;color:  black\">\n",
        "<li>57. In <span style=\"font-weight: bold; color:#122ecc\">67.32%</span> of road accident cases, the <span style=\"font-weight: bold; color:#122ecc\">air pressure</span> range is between <span style=\"font-weight: bold; color:#122ecc\">20(in) - 30(in)</span>.</li>  \n",
        "</ul>\n",
        "</div>"
      ],
      "metadata": {
        "id": "L7UDislTQe4H"
      }
    },
    {
      "cell_type": "code",
      "source": [
        "Wind_Chill_intervals, Wind_Chill_labels = generate_intervals_labels('Wind_Chill(F)', 10, 20)\n",
        "\n",
        "Feature_Bin_Plot(df, 'Wind_Chill(F)', 'inferno', Wind_Chill_intervals, Wind_Chill_labels, \n",
        "                 (12, 6), 14, (-20000, 700000), [0.01, 10000], '\\nPercentage of different Wind Chill range\\n')"
      ],
      "metadata": {
        "execution": {
          "iopub.status.busy": "2021-11-11T16:12:22.312947Z",
          "iopub.execute_input": "2021-11-11T16:12:22.313188Z",
          "iopub.status.idle": "2021-11-11T16:12:23.772057Z",
          "shell.execute_reply.started": "2021-11-11T16:12:22.31316Z",
          "shell.execute_reply": "2021-11-11T16:12:23.771432Z"
        },
        "trusted": true,
        "id": "LZKNb_HSQe4H"
      },
      "execution_count": null,
      "outputs": []
    },
    {
      "cell_type": "markdown",
      "source": [
        "<p><img alt=\"Insight logo\" src=\"https://drive.google.com/uc?export=view&id=15uX4fnuDMuki2xAnjK8wv-ifJhAkBtJ2\" align=\"left\" hspace=\"10px\" vspace=\"0px\"></p>\n",
        "\n",
        "<ul style=\"list-style-type:none;\">\n",
        "  <li style=\"font-weight: bold;font-family:'Times New Roman';font-size:30px;font-style: italic;color:  #6468e8\">Insight:</li>\n",
        "</ul>\n",
        "\n",
        "<div class=\"alert alert-info\" role=\"alert\">\n",
        "<ul style=\"list-style-type:none;font-family:Yu Mincho Demibold;font-size:20px;color:  black\">\n",
        "<li>58. In <span style=\"font-weight: bold; color:#122ecc\">most</span> of the <span style=\"font-weight: bold; color:#122ecc\">cases (26.37%)</span> of road accident, the <span style=\"font-weight: bold; color:#122ecc\">wind chill</span> range is between <span style=\"font-weight: bold; color:#122ecc\">51(F) - 71(F)</span>.</li>\n",
        "</ul>\n",
        "</div>"
      ],
      "metadata": {
        "id": "yQe2Rf94Qe4H"
      }
    },
    {
      "cell_type": "code",
      "source": [
        "Wind_Speed_intervals, Wind_Speed_labels = generate_intervals_labels('Wind_Speed(mph)', 10, 5)\n",
        "\n",
        "Feature_Bin_Plot(df, 'Wind_Speed(mph)', 'turbo',Wind_Speed_intervals, Wind_Speed_labels, \n",
        "                 (12, 6), 14, (-20000, 900000), [0.01, 10000], '\\nPercentage of different Wind Speed range\\n')"
      ],
      "metadata": {
        "execution": {
          "iopub.status.busy": "2021-11-11T16:12:23.773208Z",
          "iopub.execute_input": "2021-11-11T16:12:23.773593Z",
          "iopub.status.idle": "2021-11-11T16:12:25.233218Z",
          "shell.execute_reply.started": "2021-11-11T16:12:23.773545Z",
          "shell.execute_reply": "2021-11-11T16:12:25.232637Z"
        },
        "trusted": true,
        "id": "m_XImXaVQe4H"
      },
      "execution_count": null,
      "outputs": []
    },
    {
      "cell_type": "markdown",
      "source": [
        "<p><img alt=\"Insight logo\" src=\"https://drive.google.com/uc?export=view&id=15uX4fnuDMuki2xAnjK8wv-ifJhAkBtJ2\" align=\"left\" hspace=\"10px\" vspace=\"0px\"></p>\n",
        "\n",
        "<ul style=\"list-style-type:none;\">\n",
        "  <li style=\"font-weight: bold;font-family:'Times New Roman';font-size:30px;font-style: italic;color:  #6468e8\">Insights:</li>\n",
        "</ul>\n",
        "\n",
        "<div class=\"alert alert-info\" role=\"alert\">\n",
        "<ul style=\"list-style-type:none;font-family:Yu Mincho Demibold;font-size:20px;color:  black\">\n",
        "<li>59. For around <span style=\"font-weight: bold; color:#122ecc\">35%</span> of road accident cases, the <span style=\"font-weight: bold; color:#122ecc\">wind speed</span> range is between <span style=\"font-weight: bold; color:#122ecc\">5(mph) - 10(mph)</span>.</li> \n",
        "</ul>\n",
        "</div>"
      ],
      "metadata": {
        "id": "tQr8cHGWQe4I"
      }
    },
    {
      "cell_type": "code",
      "source": [
        "Visibility_intervals, Visibility_labels = generate_intervals_labels('Visibility(mi)', 12, 1)\n",
        "\n",
        "Feature_Bin_Plot(df, 'Visibility(mi)', 'prism', Visibility_intervals, Visibility_labels, \n",
        "                 (12, 6), 14, (-20000, 1900000), [0.01, 30000], '\\nPercentage of different Visibility range\\n')"
      ],
      "metadata": {
        "execution": {
          "iopub.status.busy": "2021-11-11T16:12:25.23435Z",
          "iopub.execute_input": "2021-11-11T16:12:25.234969Z",
          "iopub.status.idle": "2021-11-11T16:12:26.684393Z",
          "shell.execute_reply.started": "2021-11-11T16:12:25.234936Z",
          "shell.execute_reply": "2021-11-11T16:12:26.683832Z"
        },
        "trusted": true,
        "id": "tr4LhP9HQe4I"
      },
      "execution_count": null,
      "outputs": []
    },
    {
      "cell_type": "markdown",
      "source": [
        "<p><img alt=\"Insight logo\" src=\"https://drive.google.com/uc?export=view&id=15uX4fnuDMuki2xAnjK8wv-ifJhAkBtJ2\" align=\"left\" hspace=\"10px\" vspace=\"0px\"></p>\n",
        "\n",
        "<ul style=\"list-style-type:none;\">\n",
        "  <li style=\"font-weight: bold;font-family:'Times New Roman';font-size:30px;font-style: italic;color:  #6468e8\">Insight:</li>\n",
        "</ul>\n",
        "\n",
        "<div class=\"alert alert-info\" role=\"alert\">\n",
        "<ul style=\"list-style-type:none;font-family:Yu Mincho Demibold;font-size:20px;color:  black\">\n",
        "<li>60. In <span style=\"font-weight: bold; color:#122ecc\">maximum cases (77.71%)</span> of road accident, the <span style=\"font-weight: bold; color:#122ecc\">Visibility range is between 9(mi) - 10(mi)</span>.</li>\n",
        "</ul>\n",
        "</div>"
      ],
      "metadata": {
        "id": "eeDxz7DDQe4I"
      }
    },
    {
      "cell_type": "code",
      "source": [
        "weather_condition_df = pd.DataFrame(df.Weather_Condition.value_counts().head(10)).reset_index().rename(columns={'index':'Weather_Condition', 'Weather_Condition':'Cases'})"
      ],
      "metadata": {
        "execution": {
          "iopub.status.busy": "2021-11-11T16:12:26.685633Z",
          "iopub.execute_input": "2021-11-11T16:12:26.68604Z",
          "iopub.status.idle": "2021-11-11T16:12:26.926958Z",
          "shell.execute_reply.started": "2021-11-11T16:12:26.686009Z",
          "shell.execute_reply": "2021-11-11T16:12:26.926319Z"
        },
        "trusted": true,
        "id": "axfjvk_cQe4I"
      },
      "execution_count": null,
      "outputs": []
    },
    {
      "cell_type": "code",
      "source": [
        "fig, ax = plt.subplots(figsize = (10,8), dpi = 80)\n",
        "\n",
        "cmap = cm.get_cmap('rainbow_r', 10)   \n",
        "clrs = [matplotlib.colors.rgb2hex(cmap(i)) for i in range(cmap.N)]\n",
        "\n",
        "ax=sns.barplot(x=weather_condition_df['Cases'], y=weather_condition_df['Weather_Condition'], palette='rainbow_r')\n",
        "\n",
        "total = df.shape[0]\n",
        "for p in ax.patches:\n",
        "    plt.text(p.get_width()+40000, p.get_y()+0.4,\n",
        "            '{:.2f}%'.format(p.get_width()*100/total),ha='center', va='center', fontsize=15, color='black', weight='bold')\n",
        "\n",
        "plt.title('\\nRoad Accident Percentage \\nfor different Weather Condition in US (2016-2020)\\n', size=20, color='grey')\n",
        "plt.xlabel('\\nAccident Cases\\n', fontsize=15, color='grey')\n",
        "plt.ylabel('\\nWeather_Condition\\n', fontsize=15, color='grey')\n",
        "plt.xticks(fontsize=13)\n",
        "plt.yticks(fontsize=12)\n",
        "plt.xlim(0, 600000)\n",
        "\n",
        "for i in ['top', 'left', 'right']:\n",
        "    side = ax.spines[i]\n",
        "    side.set_visible(False)\n",
        "\n",
        "ax.set_axisbelow(True)\n",
        "ax.spines['bottom'].set_bounds(0, 600000)\n",
        "ax.grid(color='#b2d6c7', linewidth=1, axis='y', alpha=.3)\n",
        "\n",
        "MA = mpatches.Patch(color=clrs[0], label='Weather_Condition with Maximum\\n no. of Road Accidents')\n",
        "ax.legend(handles=[MA], prop={'size': 10.5}, loc='best', borderpad=1, \n",
        "          labelcolor=[clrs[0]], edgecolor='white');"
      ],
      "metadata": {
        "_kg_hide-input": true,
        "execution": {
          "iopub.status.busy": "2021-11-11T16:12:26.928438Z",
          "iopub.execute_input": "2021-11-11T16:12:26.928814Z",
          "iopub.status.idle": "2021-11-11T16:12:27.311645Z",
          "shell.execute_reply.started": "2021-11-11T16:12:26.928781Z",
          "shell.execute_reply": "2021-11-11T16:12:27.311052Z"
        },
        "jupyter": {
          "source_hidden": true
        },
        "trusted": true,
        "id": "4wPCJ5PXQe4I"
      },
      "execution_count": null,
      "outputs": []
    },
    {
      "cell_type": "markdown",
      "source": [
        "<p><img alt=\"Insight logo\" src=\"https://drive.google.com/uc?export=view&id=15uX4fnuDMuki2xAnjK8wv-ifJhAkBtJ2\" align=\"left\" hspace=\"10px\" vspace=\"0px\"></p>\n",
        "\n",
        "<ul style=\"list-style-type:none;\">\n",
        "  <li style=\"font-weight: bold;font-family:'Times New Roman';font-size:30px;font-style: italic;color:  #6468e8\">Insight:</li>\n",
        "</ul>\n",
        "\n",
        "<div class=\"alert alert-info\" role=\"alert\">\n",
        "<ul style=\"list-style-type:none;font-family:Yu Mincho Demibold;font-size:20px;color:  black\">  \n",
        "<li>61. In <span style=\"font-weight: bold; color:#122ecc\">most</span> of the <span style=\"font-weight: bold; color:#122ecc\">cases (30.69%)</span> the <span style=\"font-weight: bold; color:#122ecc\">weather</span> was <span style=\"font-weight: bold; color:#122ecc\">Fair</span> and approximately in <span style=\"font-weight: bold; color:#122ecc\">13% cases</span> it was <span style=\"font-weight: bold; color:#122ecc\">mostly cloudy</span>.</li>\n",
        "</ul>\n",
        "</div>"
      ],
      "metadata": {
        "id": "MislETc9Qe4I"
      }
    },
    {
      "cell_type": "markdown",
      "source": [
        "<p><img alt=\"Insight logo\" src=\"https://drive.google.com/uc?export=view&id=14dpaeXX-ajsM8quwe3dCCdQdrdvf29iI\" align=\"left\" hspace=\"20px\" vspace=\"20px\" width=\"45\" height=\"60\" ></p>\n",
        "\n",
        "<ul style=\"list-style-type:none;\">\n",
        "  <li style=\"font-weight: bold;font-family:Yu Mincho Demibold;font-size:40px;font-style: italic;color:  #6468e8\">All Insights</li>\n",
        "</ul>\n",
        "\n",
        "<ul style=\"list-style-type:none;font-family:Yu Mincho Demibold;font-size:20px;color:  black\">\n",
        "<li>1. <span style=\"font-weight: bold; color:#122ecc;\">Los Angeles</span> is the city with <span style=\"font-weight: bold; color:#122ecc;\">highest (2.64%)</span> no. of road accidents in US (2016-2020).</li>\n",
        "<br>\n",
        "<li>2. <span style=\"font-weight: bold; color:#122ecc;\">Miami</span> is the city with <span style=\"font-weight: bold; color:#122ecc;\">2nd highest (2.39%)</span> no. of road accidents in US (2016-2020).</li>\n",
        "<br>\n",
        "<li>3. Around <span style=\"font-weight: bold; color:#122ecc;\">14%</span> accident records of past 5 years are only from these <span style=\"font-weight: bold; color:#122ecc;\">10 cities</span> out of 10,657 cities in US (as per the dataset).</li>  \n",
        "\n",
        "---\n",
        "\n",
        "<li>4. In past 5 years (2016-2020) <span style=\"font-weight: bold; color:#122ecc;\">yearly 7,997 road accidents</span> (average) happened in <span style=\"font-weight: bold; color:#122ecc;\">Los Angeles</span>.</li>\n",
        "<br>\n",
        "<li>5. In <span style=\"font-weight: bold; color:#122ecc;\">Los Angeles</span> averagely in <span style=\"font-weight: bold; color:#122ecc;\">every 12 hours 11 accidents</span> occurred.</li>\n",
        "\n",
        "---\n",
        "\n",
        "<li>6. <span style=\"font-weight: bold; color:#122ecc;\">3 out of top 10 cities</span> with most no. of accident cases is from the state, <span style=\"font-weight: bold; color:#122ecc;\">California</span>.</li>   \n",
        "\n",
        "---\n",
        "  \n",
        "<li>In this Dataset, we have the records of total <span style=\"color:#122ecc;\">10,657 Cities</span>.</li> \n",
        "\n",
        "<li>7. <span style=\"font-weight: bold; color:#122ecc;\">11% (1167 Cities)</span> cities in US, have <span style=\"font-weight: bold; color:#122ecc;\">only 1</span> accident record in past 5 years.</li> \n",
        "<br>\n",
        "<li>8. Around <span style=\"font-weight: bold; color:#122ecc;\">81% (8,682 Cities)</span> of all cities in US, have <span style=\"font-weight: bold; color:#122ecc;\">less than 100</span> total no. of road accidents.</li>\n",
        "<br>\n",
        "<li>9. <span style=\"font-weight: bold; color:#122ecc;\">97.64% (10,406 Cities)</span> cities in US, have the road accident records (2016-2020), <span style=\"font-weight: bold; color:#122ecc;\">less than 1,000</span>.</li>\n",
        "<br>\n",
        "<li>10. There are <span style=\"font-weight: bold; color:#122ecc;\">251 Cities (2.36%)</span> in US, which have <span style=\"font-weight: bold; color:#122ecc;\">more than 1,000</span> total no. of road accidents in past 5 years.</li>\n",
        "<br>\n",
        "<li>11. <span style=\"font-weight: bold; color:#122ecc;\">40 Cities (0.38%)</span> in US, have <span style=\"font-weight: bold; color:#122ecc;\">more than 5,000</span> road accident records.</li>\n",
        "<br>\n",
        "<li>12. Only <span style=\"font-weight: bold; color:#122ecc;\">13 Cities (0.12%)</span> in US, have <span style=\"font-weight: bold; color:#122ecc;\">more than 10,000</span> road accident records.</li>\n",
        "\n",
        "---\n",
        "\n",
        "<li>13. In US, <span style=\"font-weight: bold; color:#122ecc\">California</span> is the state with <span style=\"font-weight: bold; color:#122ecc\">highest no. of road accidents </span> in past 5 years.</li>\n",
        "<br>\n",
        "<li>14. About <span style=\"font-weight: bold; color:#122ecc\">30%</span> of the total accident records of past 5 years in US is only from <span style=\"font-weight: bold; color:#122ecc\">California</span>.</li>\n",
        "<br>\n",
        "<li>15. In past 5 years, averagely <span style=\"font-weight: bold; color:#122ecc\">246 accidents (daily)</span> happened  in <span style=\"font-weight: bold; color:#122ecc\">California </span> implies approximately <span style=\"font-weight: bold; color:#122ecc\">10 accidents per hour</span>.</li>\n",
        "<br>\n",
        "<li>16. <span style=\"font-weight: bold; color:#122ecc\">Florida</span> is the <span style=\"font-weight: bold; color:#122ecc\">2nd highest (10% cases)</span> state for no. road accidents in US.</li>   \n",
        "\n",
        "---\n",
        "    \n",
        "<li>17. <span style=\"font-weight: bold; color:#122ecc\">South Dakota</span> is the city with <span style=\"font-weight: bold; color:#122ecc\">lowest no. of road accidents </span> in past 5 years.</li>\n",
        "<br>\n",
        "<li>18. Only <span style=\"font-weight: bold; color:#122ecc\">213</span> accidents took place in <span style=\"font-weight: bold; color:#122ecc\">South Dakota </span> in past 5 years implies <span style=\"font-weight: bold; color:#122ecc\">yearly 42 cases</span> in average.</li>   \n",
        "\n",
        "---\n",
        "  \n",
        "<li>19. <span style=\"font-weight: bold; color:#122ecc\">Eastern</span> time zone region of US has the <span style=\"font-weight: bold; color:#122ecc\">highest no. of road accident cases (39%)</span> in past 5 years.</li>\n",
        "<br>\n",
        "<li>\n",
        "20. <span style=\"font-weight: bold; color:#122ecc\">Mountain</span> time zone region of US has the <span style=\"font-weight: bold; color:#122ecc\">lowest no. of road accident cases (6%)</span> in past 5 years.</li>\n",
        "\n",
        "---\n",
        "   \n",
        "<li>21. In last 5 years (2016-2020) <span style=\"font-weight: bold; color:#122ecc\">Street No. I-5 N</span> is having the <span style=\"font-weight: bold; color:#122ecc\">highest road accidents records</span>.</li>\n",
        "<br>\n",
        "<li>22. In <span style=\"font-weight: bold; color:#122ecc\">Street No. I-5 N</span>, daily <span style=\"font-weight: bold; color:#122ecc\">14 accidents</span> occurred in average.</li>\n",
        "\n",
        "---\n",
        "\n",
        "<li>In Our dataset, there are <span style=\"color:#122ecc;\">total 93,048 Streets</span> enlisted for accidental cases,</li>\n",
        "<br>\n",
        "<li>23. There are <span style=\"font-weight: bold; color:#122ecc\">36,441 Streets (39%)</span> in US which have <span style=\"font-weight: bold; color:#122ecc\">only 1 accident </span> record in past 5 years.</li>\n",
        "<br>\n",
        "<li>24. <span style=\"font-weight: bold; color:#122ecc\">98% Streets</span> of US, have <span style=\"font-weight: bold; color:#122ecc\">less than 100</span> road accident cases.</li>\n",
        "<br>\n",
        "<li>25. Only <span style=\"font-weight: bold; color:#122ecc\">0.2% Streets</span> in US have the accident cases <span style=\"font-weight: bold; color:#122ecc\">greater than 1000</span>.</li>\n",
        "<br>\n",
        "<li>26. In last 5 years record of road accidents, only <span style=\"font-weight: bold; color:#122ecc\">24 Streets (0.03%)</span> have <span style=\"font-weight: bold; color:#122ecc\">greater than 5000</span> cases.</li>\n",
        "\n",
        "---\n",
        "\n",
        "<li>27. In <span style=\"font-weight: bold;color:#122ecc;\">80% Cases</span> of road accidents, the impact on the traffic was <span style=\"font-weight: bold;color:#122ecc;\">Moderate (Severity-2)</span>.</li>\n",
        "<br>\n",
        "<li>28. In <span style=\"font-weight: bold;color:#122ecc;\">7.5% Cases</span> of road accidents, the impact on the traffic was <span style=\"font-weight: bold;color:#122ecc;\">highly Severe (Severity-4)</span>.</li>\n",
        "\n",
        "---\n",
        "    \n",
        "<li>29. From the above plot, it is inferred that <span style=\"font-weight: bold;color:#122ecc\">majority (24.25%)</span> of road accidents, have impacted on the traffic flow for <span style=\"font-weight: bold;color:#122ecc;\">6 hours</span>.</li>    \n",
        "\n",
        "---\n",
        "\n",
        "<li>30. From the above figure, it is clear that in <span style=\"font-weight: bold; color:#122ecc\">last 5 years (2016-2020)</span> in US <span style=\"font-weight: bold; color:#122ecc\">accidents percentage</span> has <span style=\"font-weight: bold;color:#122ecc\">increased significantly</span>.</li>\n",
        "<br>\n",
        "<li>31. <span style=\"font-weight: bold; color:#122ecc\">70%</span> of the total road accident records of last 5 years happened only within <span style=\"font-weight: bold; color:#122ecc\">last 2 years (2019, 2020)</span>.</li>\n",
        "\n",
        "---\n",
        "\n",
        "<li>32. In <span style=\"font-weight: bold; color:#122ecc\">last 4 years (2017-2020)</span>  <span style=\"font-weight: bold; color:#122ecc\">highly severe (Severity-4)</span> accident cases in us remain in the range of <span style=\"font-weight: bold;color:#122ecc\">1.55% to 1.8%</span>.</li>\n",
        "<br>\n",
        "<li>33. <span style=\"font-weight: bold; color:#122ecc\">45%</span> of the total road accidents of last 5 years which occurred only in <span style=\"font-weight: bold; color:#122ecc\">2020</span> are <span style=\"font-weight: bold; color:#122ecc\">moderately severe (Severity-2)</span>.</li>\n",
        "\n",
        "---\n",
        "\n",
        "<li>34. In the year <span style=\"font-weight: bold; color:#122ecc\">2020</span>, averagely <span style=\"font-weight: bold; color:#122ecc\">432 accidents</span> happened <span style=\"font-weight: bold; color:#122ecc\">per day</span> in US.</li>\n",
        "<br>\n",
        "<li>35. From <span style=\"font-weight: bold; color:#122ecc\">2019</span> to <span style=\"font-weight: bold; color:#122ecc\">2020</span> the <span style=\"font-weight: bold; color:#122ecc\">average accident/day</span> has <span style=\"font-weight: bold; color:#122ecc\">increased 3 times</span> in US.</li>\n",
        "<br>\n",
        "<li>36. Compare to <span style=\"font-weight: bold; color:#122ecc\">2016</span> the <span style=\"font-weight: bold; color:#122ecc\">accident/hour</span> has <span style=\"font-weight: bold; color:#122ecc\">increased 6 times</span> in <span style=\"font-weight: bold; color:#122ecc\">2020</span>.</li>\n",
        "<br>\n",
        "<li>37. In the year <span style=\"font-weight: bold; color:#122ecc\">2020</span>, averagely <span style=\"font-weight: bold; color:#122ecc\">18 accidents</span> happened <span style=\"font-weight: bold; color:#122ecc\">per hour</span> in US implies that <span style=\"font-weight: bold; color:#122ecc\">3 accidents in every 10 minutes</span>.\n",
        "</li>\n",
        "\n",
        "---\n",
        "\n",
        "<li>38. Around <span style=\"font-weight: bold; color:#122ecc\">18%</span> of the road accidents occurred in the month of <span style=\"font-weight: bold; color:#122ecc\">December</span>.</li>\n",
        "<br>\n",
        "<li>39. <span style=\"font-weight: bold; color:#122ecc\">July</span> is month with <span style=\"font-weight: bold; color:#122ecc\">least (3.54%)</span> no. of road accidents in US.</li>\n",
        "<br>\n",
        "<li>40. <span style=\"font-weight: bold; color:#122ecc\">45%</span> of the road accidents occurred only within the <span style=\"font-weight: bold; color:#122ecc\">3 months, October to December</span> <span style=\"font-weight: bold; color:#122ecc\">(i.e., transition period from Autumn to Winter)</span>.</li>    \n",
        "\n",
        "---\n",
        "    \n",
        "<li>41. <span style=\"font-weight: bold; color:#122ecc\">Working Days</span> of the week have almost <span style=\"font-weight: bold; color:#122ecc\">2 times higher</span> accident percentage, compared with the <span style=\"font-weight: bold; color:#122ecc\">Weekend Days</span> which is as our expectation.</li>\n",
        "<br>\n",
        "<li>42. Only around <span style=\"font-weight: bold; color:#122ecc\">17%</span> road accident records occurred in <span style=\"font-weight: bold; color:#122ecc\">weekend</span>.</li>\n",
        "<br>\n",
        "<li>43. <span style=\"font-weight: bold; color:#122ecc\">Thursday</span> of a week is having the <span style=\"font-weight: bold; color:#122ecc\">highest</span> percentage of road accidents.</li>\n",
        "<br>\n",
        "<li>44. On <span style=\"font-weight: bold; color:#122ecc\">Sunday</span> the percentage of road accidents in US is <span style=\"font-weight: bold; color:#122ecc\">lowest</span>.</li>\n",
        "\n",
        "---\n",
        "\n",
        "<li>45. Around <span style=\"font-weight: bold; color:#122ecc\">18%</span> of the road accidents occurred in between <span style=\"font-weight: bold; color:#122ecc\">6:00AM</span> to <span style=\"font-weight: bold; color:#122ecc\">9:00AM</span>.</li>\n",
        "<br>\n",
        "<li>46. In evening, around <span style=\"font-weight: bold; color:#122ecc\">27%</span> of the road accidents occurred in between <span style=\"font-weight: bold; color:#122ecc\">3:00PM</span> to <span style=\"font-weight: bold; color:#122ecc\">6:00PM</span>.</li>\n",
        "<br>\n",
        "<li>47. The <span style=\"font-weight: bold; color:#122ecc\">most-deadliest accident hour</span> is <span style=\"font-weight: bold; color:#122ecc\">5:00PM</span> implies the <span style=\"font-weight: bold; color:#122ecc\">Evening Office-Returning Hours</span>.</li>\n",
        "<br>\n",
        "<li>48. The <span style=\"font-weight: bold; color:#122ecc\">2nd most-deadliest accident hour</span> is <span style=\"font-weight: bold; color:#122ecc\">8:00AM</span> implies the <span style=\"font-weight: bold; color:#122ecc\">Morning Office-Going Hours</span>.</li>\n",
        "\n",
        "---\n",
        "\n",
        "<li>49. Almost in every case (99.98%) <span style=\"font-weight: bold; color:#122ecc\">Bumper was absent</span> in the accident spot.</li>\n",
        "<br>\n",
        "<li>50. In <span style=\"font-weight: bold; color:#122ecc\">5.7%</span> cases, road accidents happened <span style=\"font-weight: bold; color:#122ecc\">near the crossing</span>.</li>\n",
        "<br>\n",
        "<li>51. In <span style=\"font-weight: bold; color:#122ecc\">98.83%</span> cases, there were <span style=\"font-weight: bold; color:#122ecc\">no Stop</span> near the accident area.</li>\n",
        "<br>\n",
        "<li>52. <span style=\"font-weight: bold; color:#122ecc\">13.49%</span> road accident cases recorded <span style=\"font-weight: bold; color:#122ecc\">near the junctions</span>.</li>\n",
        "<br>\n",
        "<li>53. There are no accident cases recorded near the <span style=\"font-weight: bold; color:#122ecc\">Turning Loop</span>.</li>\n",
        "<br>\n",
        "<li>54. <span style=\"font-weight: bold; color:#122ecc\">11.21%</span> road accident cases recorded <span style=\"font-weight: bold; color:#122ecc\">near the traffic signal</span>.</li>\n",
        "\n",
        "---\n",
        "\n",
        "<li>55. In the <span style=\"font-weight: bold; color:#122ecc\">temperature</span> range of <span style=\"font-weight: bold; color:#122ecc\">61(F) - 91(F)</span>, <span style=\"font-weight: bold; color:#122ecc\">45%</span> of the road accidents occurred.</li>    \n",
        "\n",
        "---\n",
        "\n",
        "<li>56. In <span style=\"font-weight: bold; color:#122ecc\">maximum cases (15.74%)</span> of road accident, the <span style=\"font-weight: bold; color:#122ecc\">humidity</span> range is between <span style=\"font-weight: bold; color:#122ecc\">81% - 91%</span>.</li>      \n",
        "\n",
        "---\n",
        "\n",
        "<li>57. In <span style=\"font-weight: bold; color:#122ecc\">67.32%</span> of road accident cases, the <span style=\"font-weight: bold; color:#122ecc\">air pressure</span> range is between <span style=\"font-weight: bold; color:#122ecc\">20(in) - 30(in)</span>.</li>  \n",
        "\n",
        "---\n",
        "\n",
        "<li>58. In <span style=\"font-weight: bold; color:#122ecc\">most</span> of the <span style=\"font-weight: bold; color:#122ecc\">cases (26.37%)</span> of road accident, the <span style=\"font-weight: bold; color:#122ecc\">wind chill</span> range is between <span style=\"font-weight: bold; color:#122ecc\">51(F) - 71(F)</span>.</li>\n",
        "\n",
        "---\n",
        "\n",
        "<li>59. For around <span style=\"font-weight: bold; color:#122ecc\">35%</span> of road accident cases, the <span style=\"font-weight: bold; color:#122ecc\">wind speed</span> range is between <span style=\"font-weight: bold; color:#122ecc\">5(mph) - 10(mph)</span>.</li>   \n",
        "\n",
        "---\n",
        "\n",
        "<li>60. In <span style=\"font-weight: bold; color:#122ecc\">maximum cases (77.71%)</span> of road accident, the <span style=\"font-weight: bold; color:#122ecc\">Visibility range is between 9(mi) - 10(mi)</span>.</li>\n",
        "\n",
        "---\n",
        "\n",
        "<li>61. In <span style=\"font-weight: bold; color:#122ecc\">most</span> of the <span style=\"font-weight: bold; color:#122ecc\">cases (30.69%)</span> the <span style=\"font-weight: bold; color:#122ecc\">weather</span> was <span style=\"font-weight: bold; color:#122ecc\">Fair</span> and approximately in <span style=\"font-weight: bold; color:#122ecc\">13% cases</span> it was <span style=\"font-weight: bold; color:#122ecc\">mostly cloudy</span>.</li>\n",
        "    \n",
        "</ul>"
      ],
      "metadata": {
        "id": "28ClqE75Qe4J"
      }
    },
    {
      "cell_type": "markdown",
      "source": [
        "<center>\n",
        "    <img src=\"https://media.istockphoto.com/vectors/car-drivers-in-accident-on-city-street-vector-id1267465436?k=20&m=1267465436&s=612x612&w=0&h=zun0mTHz2AqM8xTkt5QjtnvOMBLYKEefruZBICBNCIo=\" />\n",
        "</center>\n",
        "\n",
        "<ul style=\"list-style-type:none; text-align: center;\">\n",
        "    <li style=\"font-family:'Microsoft JhengHei UI Light';font-weight: bold;font-size:40px;color:  #6468e8\">Thank You !!</li>\n",
        "    <li style=\"font-family:'Microsoft JhengHei UI Light';font-weight: bold;font-size:35px;color:  #6468e8\">If You love this Notebook, UpVote !!</li>\n",
        "</ul>"
      ],
      "metadata": {
        "id": "wLD6_U5nQe4J"
      }
    }
  ]
}